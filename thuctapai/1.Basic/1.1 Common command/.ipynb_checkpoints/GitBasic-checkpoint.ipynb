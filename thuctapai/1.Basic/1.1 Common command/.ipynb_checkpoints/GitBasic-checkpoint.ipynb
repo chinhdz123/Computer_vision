{
 "cells": [
  {
   "cell_type": "markdown",
   "id": "6cff5c85",
   "metadata": {},
   "source": [
    "<h3>1. Introduction to Git<h3>"
   ]
  },
  {
   "cell_type": "markdown",
   "id": "935ba3ac",
   "metadata": {},
   "source": [
    "Git is officialy defined as distributed version control system(VCS).In other words, it's a system that tracks changes to our\n",
    "project files over time. It enables us to record project changes and go back to a specific version of the tracked files, at \n",
    "any given point in time. This system can be used by many people to efficiently work together and collaborate on team projects, \n",
    "where each developer can have their own version of the project, distributed on their computer. Later on, these individual\n",
    "versions of the project can be merged and adapted into the  \n",
    "main version of the project."
   ]
  },
  {
   "cell_type": "markdown",
   "id": "80546809",
   "metadata": {},
   "source": [
    "<h3>2. Setup instructions<h3>"
   ]
  },
  {
   "cell_type": "markdown",
   "id": "0f851f72",
   "metadata": {},
   "source": [
    "Git is primarily used via the command-line interface, which we can access with our system terminals.                \n",
    "Configuring your nam & Email \n",
    "\n",
    "* git config --global user.name \"Your Name\"             \n",
    "* git config --global user.email \"YourEmail@email.com\"  \n",
    "\n",
    "Replace the values inside the quotes with your name and email address.           \n",
    "Not used to log in   \n",
    "Used to track who made what changes"
   ]
  },
  {
   "cell_type": "markdown",
   "id": "fb9f2b8c",
   "metadata": {},
   "source": [
    "<h3>3. Initializing a Repositories<h3>"
   ]
  },
  {
   "cell_type": "markdown",
   "id": "c0847039",
   "metadata": {},
   "source": [
    "The command below will generate a hidden.git directory for your project, where Got stores all internal tracking data for the curren repository:   \n",
    "* git init"
   ]
  },
  {
   "cell_type": "markdown",
   "id": "586a9183",
   "metadata": {},
   "source": [
    "<h3>4. Staging and committing code<h3>"
   ]
  },
  {
   "cell_type": "markdown",
   "id": "866cb2d9",
   "metadata": {},
   "source": [
    "1. Checking status   \n",
    "    While located inside the project folder in our terminal, we can type the follow command to check the status of our repository:\n",
    "    * git status    \n",
    "    \n",
    "   It show us which files have been changed, which files are tracked,...\n",
    "2. Staging files\n",
    "    From the project folder, we can use the git add command to add our files to stagin area which allows them to be tracked.       We can add files to the staging area with the following command:  \n",
    "    * git add file.js\n",
    "    * git add file.js, file1.py, file2.py\n",
    "    * git add . (add all files)\n",
    "3. Making commits\n",
    "    To commit the files from the staging area, we use the following commnad: \n",
    "    * git commit -m \"Commit message\"\n",
    "4. Commit history\n",
    "    To see all the commits that were made for our project, you can use the following command:\n",
    "    * git log       "
   ]
  },
  {
   "cell_type": "markdown",
   "id": "5094d263",
   "metadata": {},
   "source": [
    "<h3>5. Upload local repositories to remote repositories<h3> "
   ]
  },
  {
   "cell_type": "markdown",
   "id": "1f5da34a",
   "metadata": {},
   "source": [
    "   * git remote add origin (path-git) "
   ]
  },
  {
   "cell_type": "markdown",
   "id": "bffafe40",
   "metadata": {},
   "source": [
    "<h3>6. Synchronize from the remote repositories to the local repositories<h3>"
   ]
  },
  {
   "cell_type": "markdown",
   "id": "110249f6",
   "metadata": {},
   "source": [
    "   * git pull"
   ]
  },
  {
   "cell_type": "markdown",
   "id": "bb3f0b4a",
   "metadata": {},
   "source": [
    "<h3>7.Download file from github<h3>"
   ]
  },
  {
   "cell_type": "markdown",
   "id": "3d5a363b",
   "metadata": {},
   "source": [
    "   * git clone (path-git)"
   ]
  }
 ],
 "metadata": {
  "kernelspec": {
   "display_name": "Python 3 (ipykernel)",
   "language": "python",
   "name": "python3"
  },
  "language_info": {
   "codemirror_mode": {
    "name": "ipython",
    "version": 3
   },
   "file_extension": ".py",
   "mimetype": "text/x-python",
   "name": "python",
   "nbconvert_exporter": "python",
   "pygments_lexer": "ipython3",
   "version": "3.9.12"
  }
 },
 "nbformat": 4,
 "nbformat_minor": 5
}
