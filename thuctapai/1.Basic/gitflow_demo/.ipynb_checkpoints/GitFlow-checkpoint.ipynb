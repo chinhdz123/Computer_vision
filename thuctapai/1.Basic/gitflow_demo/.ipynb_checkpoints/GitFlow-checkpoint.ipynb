{
 "cells": [
  {
   "cell_type": "markdown",
   "id": "ed7d524b",
   "metadata": {},
   "source": [
    "<h3>1. Git Flow là gì?<h3>"
   ]
  },
  {
   "cell_type": "markdown",
   "id": "4ee73b33",
   "metadata": {},
   "source": [
    "Git-flow là một tiện ích mở rộng của git, giúp các thao tác trên repository trở lên dễ dàng và hiệu quả hơn dựa trên mô hình\n",
    "phân nhánh của Vincent Drissen. Git-flow hoạt động dựa trên các thao tác gộp nhánh. Nó không thực hiện các thao tác sắp xếp\n",
    "commits trên các nhánh tính năng."
   ]
  },
  {
   "cell_type": "markdown",
   "id": "9a30316c",
   "metadata": {},
   "source": [
    "<h3>2. Khởi tạo <h3>"
   ]
  },
  {
   "cell_type": "markdown",
   "id": "daf3021f",
   "metadata": {},
   "source": [
    "___git flow init___"
   ]
  },
  {
   "cell_type": "markdown",
   "id": "0e6fac31",
   "metadata": {},
   "source": [
    "<h3> 3. Làm việc với Features<h3>"
   ]
  },
  {
   "cell_type": "markdown",
   "id": "d3688355",
   "metadata": {},
   "source": [
    "1. Bắt đầu quá trình phát triển một feature mới   \n",
    "    Khi khởi tạo git-flow, đầu tiên sẽ làm việc với develop. Đầu tiên chúng ta sẽ tạo ra một nhánh mới từ 'develop'.  \n",
    "    * git flow feature start MYFEATURE"
   ]
  },
  {
   "cell_type": "markdown",
   "id": "81eb4661",
   "metadata": {},
   "source": [
    "![Feature1](feature1.JPG)"
   ]
  },
  {
   "cell_type": "markdown",
   "id": "967a0f54",
   "metadata": {},
   "source": [
    "2. Làm việc với nhánh MYFEATURE"
   ]
  },
  {
   "cell_type": "markdown",
   "id": "0e4a27c9",
   "metadata": {},
   "source": [
    "3. Đấy mã nguồn của feature lên máy chủ \n",
    "\n",
    "    ___git flow feature publish MYFEATURE___"
   ]
  },
  {
   "cell_type": "markdown",
   "id": "9dad6406",
   "metadata": {},
   "source": [
    "![push](push.jpg \"push\")"
   ]
  },
  {
   "cell_type": "markdown",
   "id": "0c145898",
   "metadata": {},
   "source": [
    "4. Kết thúc quá trình phát triển một feature\n",
    "    \n",
    "    ___git flow feature finish MYFEATURE___  \n",
    "\n",
    "    Điều này xảy ra sau khi đã phát triển xong một feature(ví dụ như MYFEATURE), lệnh kết thúc quá trình phát triển feature sẽ tự động thực hiện các thao tác:\n",
    "    - Gộp nhánh feature vào nhánh 'develop'\n",
    "    - Xóa nhánh feature\n",
    "    - Chuyển sang nhánh 'develop'  "
   ]
  },
  {
   "cell_type": "markdown",
   "id": "9ba98cd8",
   "metadata": {},
   "source": [
    "![Feature2](feature2.jpg \"Feature2\")"
   ]
  },
  {
   "cell_type": "markdown",
   "id": "45c9f48e",
   "metadata": {},
   "source": [
    "5. Kéo mã nguồn của feature về  \n",
    "\n",
    "    ___git flow feature pull___"
   ]
  },
  {
   "cell_type": "markdown",
   "id": "28cf2be8",
   "metadata": {},
   "source": [
    "![pull](pull.jpg \"pull\")"
   ]
  },
  {
   "cell_type": "markdown",
   "id": "d171afcb",
   "metadata": {},
   "source": [
    "<h3> 4. Tạo một bản Release<h3>"
   ]
  },
  {
   "cell_type": "markdown",
   "id": "9bfcae69",
   "metadata": {},
   "source": [
    "1. Bắt đầu một release mới.\n",
    "\n",
    "    ___git flow release start RELEASE ___\n",
    "    \n",
    "    Lệnh này sẽ tạo ra nhánh 'release' từ nhánh 'develop'.\n",
    "    "
   ]
  },
  {
   "cell_type": "markdown",
   "id": "bb103dff",
   "metadata": {},
   "source": [
    "![release1](release1.jpg)"
   ]
  },
  {
   "cell_type": "markdown",
   "id": "8d3182dc",
   "metadata": {},
   "source": [
    "2. Làm việc với release "
   ]
  },
  {
   "cell_type": "markdown",
   "id": "8497ec0f",
   "metadata": {},
   "source": [
    "3. Đẩy mã nguồn release lên máy chủ\n",
    "\n",
    "   ___git flow release publish RELEASE___"
   ]
  },
  {
   "cell_type": "markdown",
   "id": "296f9c5b",
   "metadata": {},
   "source": [
    "4. Kết thúc release\n",
    "    \n",
    "   ___git flow release finish RELEASE___\n",
    "   \n",
    "   Kết thúc release là một bước lớn trong chiến lược phân nhánh git. Nó thực hiện các việc sau:\n",
    "   * Merge nhánh 'release' vào nhánh 'master'\n",
    "   * Gắn tag ở nhánh 'master' dành cho bản release\n",
    "   * Merge lại nhánh 'release' vào nhánh 'develop'\n",
    "   * Xóa bỏ nhánh 'release'"
   ]
  },
  {
   "cell_type": "markdown",
   "id": "497e3f46",
   "metadata": {},
   "source": [
    "![release2](release2.jpg \"release2\")"
   ]
  },
  {
   "cell_type": "markdown",
   "id": "b4e8799a",
   "metadata": {},
   "source": [
    "5. Kéo mã nguồn release về\n",
    "\n",
    "   ___git flow release pull___"
   ]
  },
  {
   "cell_type": "markdown",
   "id": "4c2b17bc",
   "metadata": {},
   "source": [
    "<h3>5. Sửa đổi nóng-hotfix<h3>"
   ]
  },
  {
   "cell_type": "markdown",
   "id": "05e89aec",
   "metadata": {},
   "source": [
    "Sử dụng cho các trường hợp khẩn cấp cần phải sửa đổi ngay trên bản sản phẩm (nhánh master).  \n",
    "Có thể tạo nhánh giải quyết khẩn cấp từ tag của nhánh 'master'."
   ]
  },
  {
   "cell_type": "markdown",
   "id": "e362327d",
   "metadata": {},
   "source": [
    "1. Bắt đầu hotfix\n",
    "\n",
    "   ___git flow hotfix start___"
   ]
  },
  {
   "cell_type": "markdown",
   "id": "e6698b7e",
   "metadata": {},
   "source": [
    "![hotfix1](hotfix1.jpg \"hotfix1\")"
   ]
  },
  {
   "cell_type": "markdown",
   "id": "7dee0f6d",
   "metadata": {},
   "source": [
    "2. Làm việc với hotfix"
   ]
  },
  {
   "cell_type": "markdown",
   "id": "d0506713",
   "metadata": {},
   "source": [
    "3. Đẩy mã nguồn hotfix lên máy chủ\n",
    "\n",
    "   ___git flow hotfix publish HOTFIX___"
   ]
  },
  {
   "cell_type": "markdown",
   "id": "cd5089f9",
   "metadata": {},
   "source": [
    "4. Kết thúc hotfix\n",
    "\n",
    "   ___git flow hotfix finish___\n",
    "   \n",
    "   Kết thúc hotfix sẽ merge lại nội dung thay đổi vào nhánh 'develop' và 'master'. ở nhánh 'master' sẽ được gắn tag là phiên bản của hotfix."
   ]
  },
  {
   "cell_type": "markdown",
   "id": "f21e3aef",
   "metadata": {},
   "source": [
    "![hotfix2](hotfix2.jpg \"hotfix2\")"
   ]
  }
 ],
 "metadata": {
  "kernelspec": {
   "display_name": "Python 3 (ipykernel)",
   "language": "python",
   "name": "python3"
  },
  "language_info": {
   "codemirror_mode": {
    "name": "ipython",
    "version": 3
   },
   "file_extension": ".py",
   "mimetype": "text/x-python",
   "name": "python",
   "nbconvert_exporter": "python",
   "pygments_lexer": "ipython3",
   "version": "3.9.12"
  }
 },
 "nbformat": 4,
 "nbformat_minor": 5
}
