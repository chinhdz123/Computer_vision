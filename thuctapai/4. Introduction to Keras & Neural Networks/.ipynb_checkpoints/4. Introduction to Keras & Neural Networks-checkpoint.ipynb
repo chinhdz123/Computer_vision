{
 "cells": [
  {
   "cell_type": "markdown",
   "id": "644cacec",
   "metadata": {},
   "source": [
    "<h3>1. Keras<h3>"
   ]
  },
  {
   "cell_type": "markdown",
   "id": "80f2a2f1",
   "metadata": {},
   "source": [
    "Các thư viện deep learning thường được ‘chống lưng’ bởi những hãng công nghệ lớn: Google (Keras, TensorFlow), Facebook (Caffe2, Pytorch), Microsoft (CNTK), Amazon (Mxnet), Microsoft và Amazon cũng đang bắt tay xây dựng Gluon (phiên bản tương tự như Keras). (Các hãng này đều có các dịch vụ cloud computing và muốn thu hút người dùng)."
   ]
  },
  {
   "cell_type": "markdown",
   "id": "826375e3",
   "metadata": {},
   "source": [
    "![Framwork](framework.JPG)"
   ]
  },
  {
   "cell_type": "markdown",
   "id": "3344832f",
   "metadata": {},
   "source": [
    "TensorFlow, Keras và Caffe là các thư viện được sử dụng nhiều nhất (gần đây có thêm PyTorch rất dễ sử dụng và đang thu hút thêm nhiều người dùng)."
   ]
  },
  {
   "cell_type": "markdown",
   "id": "bb2d2d52",
   "metadata": {},
   "source": [
    "Keras được coi là một thư viện ‘high-level’ với phần ‘low-level’ (còn được gọi là backend) có thể là TensorFlow, CNTK, hoặc Theano. Keras có cú pháp đơn giản hơn TensorFlow rất nhiều. Với mục đích giới thiệu về các mô hình nhiều hơn là các sử dụng các thư viện deep learning, tôi sẽ chọn Keras với TensorFlow là ‘backend’."
   ]
  },
  {
   "cell_type": "markdown",
   "id": "97aa907c",
   "metadata": {},
   "source": [
    "Những lý do nên sử dụng Keras để bắt đầu:\n",
    "\n",
    "   * Keras ưu tiên trải nghiệm của người lập trình\n",
    "\n",
    "   * Keras đã được sử dụng rộng rãi trong doanh nghiệp và cộng đồng nghiên cứu\n",
    "\n",
    "   * Keras giúp dễ dàng biến các thiết kế thành sản phẩm\n",
    "\n",
    "   * Keras hỗ trợ huấn luyện trên nhiều GPU phân tán\n",
    "\n",
    "   * Keras hỗ trợ đa backend engines và không giới hạn bạn vào một hệ sinh thái"
   ]
  },
  {
   "cell_type": "markdown",
   "id": "891ec5f6",
   "metadata": {},
   "source": [
    "<h3>2. Neural Networks<h3>"
   ]
  },
  {
   "cell_type": "markdown",
   "id": "e30bb80e",
   "metadata": {},
   "source": [
    "Con chó có thể phân biệt được người thân trong gia đình và người lạ hay đứa trẻ có thể phân biệt được các con vật. Những việc tưởng chừng như rất đơn giản nhưng lại cực kì khó để thực hiện bằng máy tính. Vậy sự khác biệt nằm ở đâu? Câu trả lời nằm ở bộ não với lượng lớn các nơ-ron thần kinh liên kết với nhau. Thế thì máy tính có nên mô phỏng lại mô hình ấy để giải các bài toán trên ???\n",
    "\n",
    "Neural là tính từ của neuron (nơ-ron), network chỉ cấu trúc đồ thị nên neural network (NN) là một hệ thống tính toán lấy cảm hứng từ sự hoạt động của các nơ-ron trong hệ thần kinh."
   ]
  },
  {
   "cell_type": "markdown",
   "id": "4d8ddfd8",
   "metadata": {},
   "source": [
    "___Mô hình neural network Logistic regression___"
   ]
  },
  {
   "cell_type": "markdown",
   "id": "b1b603ce",
   "metadata": {},
   "source": [
    "Logistic regression là mô hình neural network đơn giản nhất chỉ với input layer và output layer."
   ]
  },
  {
   "cell_type": "markdown",
   "id": "5de1bbf6",
   "metadata": {},
   "source": [
    "Mô hình của logistic regression từ bài trước là: $\\hat{y}\n",
    " =σ(w \n",
    "0\n",
    "​\n",
    " +w \n",
    "1\n",
    "​\n",
    " ∗x \n",
    "1\n",
    "​\n",
    " +w \n",
    "2\n",
    "​\n",
    " ∗x \n",
    "2\n",
    "​\n",
    " )$. Có 2 bước:"
   ]
  },
  {
   "cell_type": "markdown",
   "id": "fc56f7b1",
   "metadata": {},
   "source": [
    "   * Tính tổng linear: $z = 1 * w_0 + x_1 * w_1 + x_2 * w_2z$\n",
    "   * Áp dụng sigmoid function: $\\hat{y} = \\sigma{(z)}$\n"
   ]
  },
  {
   "cell_type": "markdown",
   "id": "15ac4ee0",
   "metadata": {},
   "source": [
    "![sigmod](sigmod.JPG)"
   ]
  },
  {
   "cell_type": "markdown",
   "id": "87b03d05",
   "metadata": {},
   "source": [
    "Hệ số $w_0w$ được gọi là bias. Để ý từ những bài trước đến giờ dữ liệu khi tính toán luôn được thêm 1 để tính hệ số bias $w_0w$ . Tại sao lại cần hệ số bias? Quay lại với bài 1, phương trình đường thẳng sẽ thế nào nếu bỏ $w_0$, phương trình giờ có dạng: $w_1*x + w_2*y = 0w$, sẽ luôn đi qua gốc tọa độ và nó không tổng quát hóa phương trình đường thẳng nên có thể không tìm được phương trình mong muốn. => Việc thêm bias (hệ số tự do) là rất quan trọng."
   ]
  },
  {
   "cell_type": "markdown",
   "id": "e5976b1c",
   "metadata": {},
   "source": [
    "Hàm sigmoid ở đây được gọi là activation function."
   ]
  },
  {
   "cell_type": "markdown",
   "id": "58998402",
   "metadata": {},
   "source": [
    "___Mô hình tổng quát___"
   ]
  },
  {
   "cell_type": "markdown",
   "id": "de6761da",
   "metadata": {},
   "source": [
    "![tongquat](tongquat.JPG)"
   ]
  },
  {
   "cell_type": "markdown",
   "id": "ec6348c1",
   "metadata": {},
   "source": [
    "Layer đầu tiên là input layer, các layer ở giữa được gọi là hidden layer, layer cuối cùng được gọi là output layer. Các hình tròn được gọi là node."
   ]
  },
  {
   "cell_type": "markdown",
   "id": "08c6d141",
   "metadata": {},
   "source": [
    "Mỗi mô hình luôn có 1 input layer, 1 output layer, có thể có hoặc không các hidden layer. Tổng số layer trong mô hình được quy ước là số layer – 1 (Không tính input layer)."
   ]
  },
  {
   "cell_type": "markdown",
   "id": "7eb0d7e3",
   "metadata": {},
   "source": [
    "Ví dụ như ở hình trên có 1 input layer, 2 hidden layer và 1 output layer. Số lượng layer của mô hình là 3 layer."
   ]
  },
  {
   "cell_type": "markdown",
   "id": "1a4cb528",
   "metadata": {},
   "source": [
    "Mỗi node trong hidden layer và output layer:\n",
    "   * Liên kết với tất cả các node ở layer trước đó với các hệ số w riêng.\n",
    "   * Mỗi node có 1 hệ số bias b riêng.\n",
    "   * Diễn ra 2 bước: tính tổng linear và áp dụng activation function."
   ]
  }
 ],
 "metadata": {
  "kernelspec": {
   "display_name": "Python 3 (ipykernel)",
   "language": "python",
   "name": "python3"
  },
  "language_info": {
   "codemirror_mode": {
    "name": "ipython",
    "version": 3
   },
   "file_extension": ".py",
   "mimetype": "text/x-python",
   "name": "python",
   "nbconvert_exporter": "python",
   "pygments_lexer": "ipython3",
   "version": "3.9.12"
  }
 },
 "nbformat": 4,
 "nbformat_minor": 5
}
