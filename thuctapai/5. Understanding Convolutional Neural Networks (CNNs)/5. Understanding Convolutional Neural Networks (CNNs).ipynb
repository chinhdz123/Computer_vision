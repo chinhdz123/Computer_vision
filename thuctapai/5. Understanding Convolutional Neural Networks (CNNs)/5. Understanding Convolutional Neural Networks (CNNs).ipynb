{
 "cells": [
  {
   "cell_type": "markdown",
   "id": "b90f7405",
   "metadata": {},
   "source": [
    "<h3>What is CNN (Convolutional Neural Network)?<h3>"
   ]
  },
  {
   "cell_type": "markdown",
   "id": "473195d1",
   "metadata": {},
   "source": [
    "Convolutional Neural Network (CNNs – Mạng nơ-ron tích chập) là một trong những mô hình Deep Learning tiên tiến. Nó giúp cho chúng ta xây dựng được những hệ thống thông minh với độ chính xác cao như hiện nay."
   ]
  },
  {
   "cell_type": "markdown",
   "id": "be750a72",
   "metadata": {},
   "source": [
    "CNN được sử dụng nhiều trong các bài toán nhận dạng các object trong ảnh. Để tìm hiểu tại sao thuật toán này được sử dụng rộng rãi cho việc nhận dạng (detection), chúng ta hãy cùng tìm hiểu về thuật toán này."
   ]
  },
  {
   "cell_type": "markdown",
   "id": "c38efddd",
   "metadata": {},
   "source": [
    "___What is Convolutional?___"
   ]
  },
  {
   "cell_type": "markdown",
   "id": "c8fea626",
   "metadata": {},
   "source": [
    "Là một cửa sổ trượt (Sliding Windows) trên một ma trận như mô tả hình dưới:"
   ]
  },
  {
   "cell_type": "markdown",
   "id": "199fa375",
   "metadata": {},
   "source": [
    "![Conv](Convolution_schematic.GIF)"
   ]
  },
  {
   "cell_type": "markdown",
   "id": "64e7ecc5",
   "metadata": {},
   "source": [
    "Các convolutional layer có các parameter(kernel) đã được học để tự điều chỉnh lấy ra những thông tin chính xác nhất mà không cần chọn các feature."
   ]
  },
  {
   "cell_type": "markdown",
   "id": "3e51b299",
   "metadata": {},
   "source": [
    "Trong hình ảnh ví dụ trên, ma trận bên trái là một hình ảnh trắng đen được số hóa. Ma trận có kích thước 5×5 và mỗi điểm ảnh có giá trị 1 hoặc 0 là giao điểm của dòng và cột."
   ]
  },
  {
   "cell_type": "markdown",
   "id": "8f625215",
   "metadata": {},
   "source": [
    "Convolution hay tích chập là nhân từng phần tử trong ma trận 3. Sliding Window hay còn gọi là kernel, filter hoặc feature detect là một ma trận có kích thước nhỏ như trong ví dụ trên là 3×3."
   ]
  },
  {
   "cell_type": "markdown",
   "id": "94023914",
   "metadata": {},
   "source": [
    "Convolution hay tích chập là nhân từng phần tử bên trong ma trận 3×3 với ma trận bên trái. Kết quả được một ma trận gọi là Convoled feature được sinh ra từ việc nhận ma trận Filter với ma trận ảnh 5×5 bên trái."
   ]
  },
  {
   "cell_type": "markdown",
   "id": "a7d40589",
   "metadata": {},
   "source": [
    "![Convolution-2](Convolution-2.PNG)"
   ]
  },
  {
   "cell_type": "markdown",
   "id": "bee71f67",
   "metadata": {},
   "source": [
    "![Convolution-1](Convolution-1.PNG)"
   ]
  },
  {
   "cell_type": "markdown",
   "id": "8154e4b1",
   "metadata": {},
   "source": [
    "___Cấu trúc mạng CNN___"
   ]
  },
  {
   "cell_type": "markdown",
   "id": "bd17d562",
   "metadata": {},
   "source": [
    "Mạng CNN là một tập hợp các lớp Convolution chồng lên nhau và sử dụng các hàm nonlinear activation như ReLU và tanh để kích hoạt các trọng số trong các node.\n",
    "\n",
    "Mỗi một lớp sau khi thông qua các hàm kích hoạt sẽ tạo ra các thông tin trừu tượng hơn cho các lớp tiếp theo. Trong mô hình mạng truyền ngược (feedforward neural network) thì mỗi neural đầu vào (input node) cho mỗi neural đầu ra trong các lớp tiếp theo.  \n",
    "\n",
    "Mô hình này gọi là mạng kết nối đầy đủ (fully connected layer) hay mạng toàn vẹn (affine layer). Còn trong mô hình CNNs thì ngược lại. Các layer liên kết được với nhau thông qua cơ chế convolution.\n",
    "\n",
    "Layer tiếp theo là kết quả convolution từ layer trước đó, nhờ vậy mà ta có được các kết nối cục bộ. Như vậy mỗi neuron ở lớp kế tiếp sinh ra từ kết quả của filter áp đặt lên một vùng ảnh cục bộ của neuron trước đó.\n",
    "\n",
    "Mỗi một lớp được sử dụng các filter khác nhau thông thường có hàng trăm hàng nghìn filter như vậy và kết hợp kết quả của chúng lại. Ngoài ra có một số layer khác như pooling/subsampling layer dùng để chắt lọc lại các thông tin hữu ích hơn (loại bỏ các thông tin nhiễu).\n",
    "\n",
    "Trong quá trình huấn luyện mạng (traning) CNN tự động học các giá trị qua các lớp filter dựa vào cách thức mà bạn thực hiện. Ví dụ trong tác vụ phân lớp ảnh, CNNs sẽ cố gắng tìm ra thông số tối ưu cho các filter tương ứng theo thứ tự raw pixel > edges > shapes > facial > high-level features. Layer cuối cùng được dùng để phân lớp ảnh."
   ]
  }
 ],
 "metadata": {
  "kernelspec": {
   "display_name": "Python 3 (ipykernel)",
   "language": "python",
   "name": "python3"
  },
  "language_info": {
   "codemirror_mode": {
    "name": "ipython",
    "version": 3
   },
   "file_extension": ".py",
   "mimetype": "text/x-python",
   "name": "python",
   "nbconvert_exporter": "python",
   "pygments_lexer": "ipython3",
   "version": "3.9.12"
  }
 },
 "nbformat": 4,
 "nbformat_minor": 5
}
