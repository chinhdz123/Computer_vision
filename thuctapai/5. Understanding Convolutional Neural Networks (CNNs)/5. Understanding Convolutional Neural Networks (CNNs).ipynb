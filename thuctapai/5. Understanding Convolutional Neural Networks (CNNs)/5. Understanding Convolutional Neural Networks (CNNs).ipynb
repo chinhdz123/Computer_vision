{
 "cells": [
  {
   "cell_type": "markdown",
   "id": "b90f7405",
   "metadata": {},
   "source": [
    "<h3>What is CNN (Convolutional Neural Network)?<h3>"
   ]
  },
  {
   "cell_type": "markdown",
   "id": "473195d1",
   "metadata": {},
   "source": [
    "Convolutional Neural Network (CNNs – Mạng nơ-ron tích chập) là một trong những mô hình Deep Learning tiên tiến. Nó giúp cho chúng ta xây dựng được những hệ thống thông minh với độ chính xác cao như hiện nay."
   ]
  },
  {
   "cell_type": "markdown",
   "id": "be750a72",
   "metadata": {},
   "source": [
    "CNN được sử dụng nhiều trong các bài toán nhận dạng các object trong ảnh. Để tìm hiểu tại sao thuật toán này được sử dụng rộng rãi cho việc nhận dạng (detection), chúng ta hãy cùng tìm hiểu về thuật toán này."
   ]
  },
  {
   "cell_type": "markdown",
   "id": "c38efddd",
   "metadata": {},
   "source": [
    "___What is Convolutional?___"
   ]
  },
  {
   "cell_type": "markdown",
   "id": "c8fea626",
   "metadata": {},
   "source": [
    "Là một cửa sổ trượt (Sliding Windows) trên một ma trận như mô tả hình dưới:"
   ]
  },
  {
   "cell_type": "markdown",
   "id": "199fa375",
   "metadata": {},
   "source": [
    "![Conv](Convolution_schematic.GIF)"
   ]
  },
  {
   "cell_type": "markdown",
   "id": "64e7ecc5",
   "metadata": {},
   "source": [
    "Các convolutional layer có các parameter(kernel) đã được học để tự điều chỉnh lấy ra những thông tin chính xác nhất mà không cần chọn các feature."
   ]
  },
  {
   "cell_type": "markdown",
   "id": "3e51b299",
   "metadata": {},
   "source": [
    "Trong hình ảnh ví dụ trên, ma trận bên trái là một hình ảnh trắng đen được số hóa. Ma trận có kích thước 5×5 và mỗi điểm ảnh có giá trị 1 hoặc 0 là giao điểm của dòng và cột."
   ]
  },
  {
   "cell_type": "markdown",
   "id": "8f625215",
   "metadata": {},
   "source": [
    "Convolution hay tích chập là nhân từng phần tử trong ma trận 3. Sliding Window hay còn gọi là kernel, filter hoặc feature detect là một ma trận có kích thước nhỏ như trong ví dụ trên là 3×3."
   ]
  },
  {
   "cell_type": "markdown",
   "id": "94023914",
   "metadata": {},
   "source": [
    "Convolution hay tích chập là nhân từng phần tử bên trong ma trận 3×3 với ma trận bên trái. Kết quả được một ma trận gọi là Convoled feature được sinh ra từ việc nhận ma trận Filter với ma trận ảnh 5×5 bên trái."
   ]
  },
  {
   "cell_type": "markdown",
   "id": "a7d40589",
   "metadata": {},
   "source": [
    "![Convolution-2](Convolution-2.PNG)"
   ]
  },
  {
   "cell_type": "markdown",
   "id": "bee71f67",
   "metadata": {},
   "source": [
    "![Convolution-1](Convolution-1.PNG)"
   ]
  },
  {
   "cell_type": "markdown",
   "id": "8154e4b1",
   "metadata": {},
   "source": [
    "___Cấu trúc mạng CNN___"
   ]
  },
  {
   "cell_type": "markdown",
   "id": "bd17d562",
   "metadata": {},
   "source": [
    "Mạng CNN là một tập hợp các lớp Convolution chồng lên nhau và sử dụng các hàm nonlinear activation như ReLU và tanh để kích hoạt các trọng số trong các node.\n",
    "\n",
    "Mỗi một lớp sau khi thông qua các hàm kích hoạt sẽ tạo ra các thông tin trừu tượng hơn cho các lớp tiếp theo. Trong mô hình mạng truyền ngược (feedforward neural network) thì mỗi neural đầu vào (input node) cho mỗi neural đầu ra trong các lớp tiếp theo.  \n",
    "\n",
    "Mô hình này gọi là mạng kết nối đầy đủ (fully connected layer) hay mạng toàn vẹn (affine layer). Còn trong mô hình CNNs thì ngược lại. Các layer liên kết được với nhau thông qua cơ chế convolution.\n",
    "\n",
    "Layer tiếp theo là kết quả convolution từ layer trước đó, nhờ vậy mà ta có được các kết nối cục bộ. Như vậy mỗi neuron ở lớp kế tiếp sinh ra từ kết quả của filter áp đặt lên một vùng ảnh cục bộ của neuron trước đó.\n",
    "\n",
    "Mỗi một lớp được sử dụng các filter khác nhau thông thường có hàng trăm hàng nghìn filter như vậy và kết hợp kết quả của chúng lại. Ngoài ra có một số layer khác như pooling/subsampling layer dùng để chắt lọc lại các thông tin hữu ích hơn (loại bỏ các thông tin nhiễu).\n",
    "\n",
    "Trong quá trình huấn luyện mạng (traning) CNN tự động học các giá trị qua các lớp filter dựa vào cách thức mà bạn thực hiện."
   ]
  },
  {
   "cell_type": "code",
   "execution_count": 1,
   "id": "9b7e97f4",
   "metadata": {},
   "outputs": [],
   "source": [
    "#Khai báo thư viện\n",
    "import tensorflow as tf\n",
    "from tensorflow.keras import datasets, layers, models\n",
    "import numpy as np\n",
    "import matplotlib.pyplot as plt\n",
    "import cv2"
   ]
  },
  {
   "cell_type": "code",
   "execution_count": 2,
   "id": "b56418b7",
   "metadata": {},
   "outputs": [],
   "source": [
    "#load data\n",
    "mnist = tf.keras.datasets.mnist #28*28 image of handwritten of 0-9 \n",
    "(x_train, y_train),(x_test,y_test) = mnist.load_data()"
   ]
  },
  {
   "cell_type": "code",
   "execution_count": 3,
   "id": "61c716e2",
   "metadata": {},
   "outputs": [],
   "source": [
    "# chuẩn hóa data\n",
    "x_train = x_train / 255.0\n",
    "x_test = x_test / 255.0"
   ]
  },
  {
   "cell_type": "code",
   "execution_count": 4,
   "id": "58e599b4",
   "metadata": {},
   "outputs": [],
   "source": [
    "#xây dựng model\n",
    "cnn = models.Sequential([\n",
    "    layers.Conv2D(filters=28, kernel_size=(3, 3), activation='relu', input_shape=(28, 28, 1)),\n",
    "    layers.MaxPooling2D((2, 2)),\n",
    "    \n",
    "    layers.Conv2D(filters=64, kernel_size=(3, 3), activation='relu'),\n",
    "    layers.MaxPooling2D((2, 2)),\n",
    "    \n",
    "    layers.Flatten(),\n",
    "    layers.Dense(64, activation='relu'),\n",
    "    layers.Dense(10, activation='softmax')\n",
    "])"
   ]
  },
  {
   "cell_type": "code",
   "execution_count": 5,
   "id": "9b0ec0c9",
   "metadata": {},
   "outputs": [],
   "source": [
    "#chọn hàm loss, tối ưu adam\n",
    "cnn.compile(optimizer='adam',\n",
    "              loss='sparse_categorical_crossentropy',\n",
    "              metrics=['accuracy'])"
   ]
  },
  {
   "cell_type": "code",
   "execution_count": 6,
   "id": "9a2f2a6b",
   "metadata": {},
   "outputs": [
    {
     "name": "stdout",
     "output_type": "stream",
     "text": [
      "Epoch 1/2\n",
      "1875/1875 [==============================] - 38s 19ms/step - loss: 0.1470 - accuracy: 0.9552\n",
      "Epoch 2/2\n",
      "1875/1875 [==============================] - 36s 19ms/step - loss: 0.0482 - accuracy: 0.9853\n"
     ]
    },
    {
     "data": {
      "text/plain": [
       "<keras.callbacks.History at 0x1accf23c580>"
      ]
     },
     "execution_count": 6,
     "metadata": {},
     "output_type": "execute_result"
    }
   ],
   "source": [
    "cnn.fit(x_train, y_train, epochs=2)"
   ]
  },
  {
   "cell_type": "code",
   "execution_count": 7,
   "id": "63ea467e",
   "metadata": {},
   "outputs": [
    {
     "name": "stdout",
     "output_type": "stream",
     "text": [
      "313/313 [==============================] - 3s 8ms/step - loss: 0.0419 - accuracy: 0.9866\n"
     ]
    },
    {
     "data": {
      "text/plain": [
       "[0.041916415095329285, 0.9865999817848206]"
      ]
     },
     "execution_count": 7,
     "metadata": {},
     "output_type": "execute_result"
    }
   ],
   "source": [
    "cnn.evaluate(x_test,y_test)"
   ]
  },
  {
   "cell_type": "code",
   "execution_count": 13,
   "id": "81609a64",
   "metadata": {
    "scrolled": true
   },
   "outputs": [
    {
     "name": "stdout",
     "output_type": "stream",
     "text": [
      "(480, 640)\n",
      "(28, 28)\n",
      "(28, 28)\n",
      "(1, 28, 28, 1)\n"
     ]
    },
    {
     "data": {
      "image/png": "[encoded data removed]",
      "text/plain": [
       "<Figure size 432x288 with 1 Axes>"
      ]
     },
     "metadata": {
      "needs_background": "light"
     },
     "output_type": "display_data"
    },
    {
     "name": "stdout",
     "output_type": "stream",
     "text": [
      "1/1 [==============================] - 0s 32ms/step\n",
      "[[0.12533338 0.10529261 0.16936189 0.10581707 0.08476506 0.08048988\n",
      "  0.06685265 0.07887263 0.09222649 0.09098829]]\n",
      "The Predicted Value is 2\n"
     ]
    }
   ],
   "source": [
    "import cv2\n",
    "img = cv2.imread(\"2.JPG\")\n",
    "img_array = cv2.cvtColor(img, cv2.COLOR_BGR2GRAY)\n",
    "print(img_array.shape)\n",
    "new_array = cv2.resize(img_array, (28,28),interpolation= cv2.INTER_AREA)\n",
    "print(new_array.shape)\n",
    "user_test = tf.keras.utils.normalize(new_array, axis = 1)\n",
    "print(user_test.shape)\n",
    "user_test = np.array(user_test).reshape(-1,28,28,1)\n",
    "print(user_test.shape)\n",
    "plt.imshow(new_array, cmap = plt.cm.binary)\n",
    "plt.show()\n",
    "predicted = cnn.predict(user_test)\n",
    "print(predicted)\n",
    "print(\"The Predicted Value is\",np.argmax(predicted))"
   ]
  }
 ],
 "metadata": {
  "kernelspec": {
   "display_name": "Python 3 (ipykernel)",
   "language": "python",
   "name": "python3"
  },
  "language_info": {
   "codemirror_mode": {
    "name": "ipython",
    "version": 3
   },
   "file_extension": ".py",
   "mimetype": "text/x-python",
   "name": "python",
   "nbconvert_exporter": "python",
   "pygments_lexer": "ipython3",
   "version": "3.9.12"
  }
 },
 "nbformat": 4,
 "nbformat_minor": 5
}
