{
 "cells": [
  {
   "cell_type": "markdown",
   "id": "52b0fedd",
   "metadata": {},
   "source": [
    "<h3>Theory<h3>"
   ]
  },
  {
   "cell_type": "markdown",
   "id": "1fb8b200",
   "metadata": {},
   "source": [
    "Hãy xem xét một hình ảnh có giá trị pixel chỉ giới hạn trong một số phạm vi giá trị cụ thể. Đối với ví dụ, hình ảnh sáng hơn sẽ có tất cả các pixel bị giới hạn ở các giá trị cao. Nhưng một hình ảnh tốt sẽ có pixel từ tất cả các vùng của hình ảnh. Vì vậy, bạn cần kéo dài biểu đồ này đến một trong hai kết thúc (như được đưa ra trong hình ảnh dưới đây, từ Wikipedia) và đó là những gì cân bằng biểu đồ làm (bằng từ đơn giản). Điều này thường cải thiện độ tương phản của hình ảnh."
   ]
  },
  {
   "cell_type": "markdown",
   "id": "05591334",
   "metadata": {},
   "source": [
    "![histogram_equalization](histogram_equalization.PNG)"
   ]
  },
  {
   "cell_type": "code",
   "execution_count": 13,
   "id": "c450f740",
   "metadata": {},
   "outputs": [
    {
     "data": {
      "image/png": "[encoded data removed]",
      "text/plain": [
       "<Figure size 432x288 with 1 Axes>"
      ]
     },
     "metadata": {
      "needs_background": "light"
     },
     "output_type": "display_data"
    }
   ],
   "source": [
    "import numpy as np\n",
    "import cv2 as cv\n",
    "from matplotlib import pyplot as plt\n",
    "img = cv.imread('xehoi.jpg',0)\n",
    "hist,bins = np.histogram(img.flatten(),256,[0,256])\n",
    "cdf = hist.cumsum()\n",
    "cdf_normalized = cdf * float(hist.max()) / cdf.max()\n",
    "plt.plot(cdf_normalized, color = 'b')\n",
    "plt.hist(img.flatten(),256,[0,256], color = 'r')\n",
    "plt.xlim([0,256])\n",
    "plt.legend(('cdf','histogram'), loc = 'upper left')\n",
    "plt.show()"
   ]
  },
  {
   "cell_type": "code",
   "execution_count": 12,
   "id": "81154228",
   "metadata": {},
   "outputs": [
    {
     "data": {
      "image/png": "[encoded data removed]",
      "text/plain": [
       "<Figure size 432x288 with 1 Axes>"
      ]
     },
     "metadata": {
      "needs_background": "light"
     },
     "output_type": "display_data"
    },
    {
     "data": {
      "text/plain": [
       "-1"
      ]
     },
     "execution_count": 12,
     "metadata": {},
     "output_type": "execute_result"
    }
   ],
   "source": [
    "img = cv.imread('xehoi.jpg',0)\n",
    "equ = cv.equalizeHist(img)\n",
    "res = np.hstack((img,equ)) #stacking images side-by-side\n",
    "plt.hist(res.ravel(),256,[0,256]); plt.show()\n",
    "cv.imshow(\"res\",res)\n",
    "cv.waitKey(0)"
   ]
  },
  {
   "cell_type": "markdown",
   "id": "3b59c811",
   "metadata": {},
   "source": [
    "Vì vậy, bây giờ bạn có thể chụp các hình ảnh khác nhau với các điều kiện ánh sáng khác nhau, cân bằng nó và kiểm tra kết quả. Cân bằng biểu đồ là tốt khi biểu đồ của hình ảnh được giới hạn trong một khu vực cụ thể. Nó sẽ không hoạt động tốt ở những nơi có các biến thể cường độ lớn trong đó biểu đồ bao gồm một vùng lớn, tức là cả hai pixel sáng và tối."
   ]
  },
  {
   "cell_type": "markdown",
   "id": "753a2526",
   "metadata": {},
   "source": [
    "<h3>CLAHE (Contrast Limited Adaptive Histogram Equalization)<h3>"
   ]
  },
  {
   "cell_type": "markdown",
   "id": "8e524af0",
   "metadata": {},
   "source": [
    "Trong nhiều trường hợp, cân bằng Histogram toàn cục không tốt."
   ]
  },
  {
   "cell_type": "code",
   "execution_count": 14,
   "id": "8375d70a",
   "metadata": {},
   "outputs": [
    {
     "data": {
      "image/png": "[encoded data removed]",
      "text/plain": [
       "<Figure size 432x288 with 1 Axes>"
      ]
     },
     "metadata": {
      "needs_background": "light"
     },
     "output_type": "display_data"
    },
    {
     "data": {
      "text/plain": [
       "-1"
      ]
     },
     "execution_count": 14,
     "metadata": {},
     "output_type": "execute_result"
    }
   ],
   "source": [
    "img = cv.imread('tuong.jpg',0)\n",
    "equ = cv.equalizeHist(img)\n",
    "res = np.hstack((img,equ)) #stacking images side-by-side\n",
    "plt.hist(res.ravel(),256,[0,256]); plt.show()\n",
    "cv.imshow(\"res\",res)\n",
    "cv.waitKey(0)"
   ]
  },
  {
   "cell_type": "markdown",
   "id": "a209a149",
   "metadata": {},
   "source": [
    "Để giải quyết vấn đề này, cân bằng biểu đồ thích ứng được sử dụng. Trong đó, hình ảnh được chia thành các khối nhỏ được gọi là \"gạch\" (gạch là 8x8 theo mặc định trong OpenCV). Sau đó, mỗi khối này là biểu đồ được cân bằng như bình thường. Vì vậy, trong một khu vực nhỏ, biểu đồ sẽ giới hạn trong một khu vực nhỏ (trừ khi có tiếng ồn). Nếu có tiếng ồn, nó sẽ được khuếch đại. Để tránh điều này, giới hạn tương phản được áp dụng. Nếu bất kỳ thùng biểu đồ nào nằm trên giới hạn tương phản được chỉ định (theo mặc định 40 trong OpenCV), các pixel đó được cắt và phân phối đồng đều cho các thùng khác trước khi áp dụng cân bằng biểu đồ. Sau khi cân bằng, để loại bỏ các tạo tác trong đường viền gạch, phép nội suy song tuyến được áp dụng."
   ]
  },
  {
   "cell_type": "code",
   "execution_count": 16,
   "id": "134a2d59",
   "metadata": {},
   "outputs": [
    {
     "data": {
      "image/png": "[encoded data removed]",
      "text/plain": [
       "<Figure size 432x288 with 1 Axes>"
      ]
     },
     "metadata": {
      "needs_background": "light"
     },
     "output_type": "display_data"
    },
    {
     "data": {
      "text/plain": [
       "-1"
      ]
     },
     "execution_count": 16,
     "metadata": {},
     "output_type": "execute_result"
    }
   ],
   "source": [
    "clahe = cv.createCLAHE(clipLimit=2.0, tileGridSize=(8,8))\n",
    "cl1 = clahe.apply(img)\n",
    "res = np.hstack((img,cl1)) #stacking images side-by-side\n",
    "plt.hist(res.ravel(),256,[0,256]); plt.show()\n",
    "cv.imshow(\"cl1\",res)\n",
    "cv.waitKey(0)"
   ]
  }
 ],
 "metadata": {
  "kernelspec": {
   "display_name": "Python 3 (ipykernel)",
   "language": "python",
   "name": "python3"
  },
  "language_info": {
   "codemirror_mode": {
    "name": "ipython",
    "version": 3
   },
   "file_extension": ".py",
   "mimetype": "text/x-python",
   "name": "python",
   "nbconvert_exporter": "python",
   "pygments_lexer": "ipython3",
   "version": "3.9.12"
  }
 },
 "nbformat": 4,
 "nbformat_minor": 5
}
