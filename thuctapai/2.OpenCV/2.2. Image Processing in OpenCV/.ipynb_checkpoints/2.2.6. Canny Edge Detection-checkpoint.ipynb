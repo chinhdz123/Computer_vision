{
 "cells": [
  {
   "cell_type": "markdown",
   "id": "9cfbbcb3",
   "metadata": {},
   "source": [
    "<h3>Giải thuật phát hiện cạnh Canny - Canny Edge Detection<h3>"
   ]
  },
  {
   "cell_type": "markdown",
   "id": "86c1c42f",
   "metadata": {},
   "source": [
    "Trong hình ảnh, thường tồn tại các thành phần như: vùng trơn, góc / cạnh và nhiễu. Cạnh trong ảnh mang đặc trưng quan trọng, thường là thuộc đối tượng trong ảnh (object). Do đó, để phát hiện cạnh trong ảnh, giải thuật Canny là một trong những giải thuật phổ biến / nổi tiếng nhất trong Xử lý ảnh."
   ]
  },
  {
   "cell_type": "markdown",
   "id": "5c3ba6fe",
   "metadata": {},
   "source": [
    "Giải thuật phát hiện cạnh Canny gồm 4 bước chính sau:\n",
    "   * Giảm nhiễu: Làm mờ ảnh, giảm nhiễu dùng bộ lọc Gaussian kích thước 5x5. Kích thước 5x5 thường hoạt động tốt cho giải thuật Canny. Dĩ nhiên bạn cũng có thể thay đổi kích thước của bộ lọc làm mờ cho phù hợp.\n",
    "   * Tính Gradient và hướng gradient: ta dùng bộ lọc Sobel X và Sobel Y (3x3) để tính được ảnh đạo hàm Gx và Gy. Sau đó, ta tiếp tục tính ảnh Gradient và góc của Gradient theo công thức. Ảnh đạo hàm Gx và Gy là ma trận (ví dụ: 640x640), thì kết quả tính ảnh đạo hàm Edge Gradient cũng là một ma trận (640x640), mỗi pixel trên ma trận này thể hiện độ lớn của biến đổi mức sáng ở vị trí tương ứng trên ảnh gốc. Tương tự, ma trận Angle cũng có cùng kích thước (640x640), mỗi pixel trên Angle thể hiện góc, hay nói cách khác là hướng của cạnh. Ví dụ dễ hiểu, nếu góc gradient là 0 độ, thì cạnh của ta trên ảnh sẽ là một đường thẳng đứng (tức tạo góc 90 độ so với trục hoành) (vuông góc hướng gradient). Khi tính toán, giá trị hướng gradient sẽ nằm trong đoạn [-180, 180] độ, ta không giữ nguyên các góc này mà gom các giá trị này về 4 bin đại diện cho 4 hướng: hướng ngang (0 độ), hướng chéo bên phải (45 độ), hướng dọc (90 độ) và hướng chéo trái (135 độ)."
   ]
  },
  {
   "cell_type": "markdown",
   "id": "3f54b816",
   "metadata": {},
   "source": [
    "![gradient_and_angle](gradient_and_angle.JPG)"
   ]
  },
  {
   "cell_type": "markdown",
   "id": "2e8e9f42",
   "metadata": {},
   "source": [
    "   * Non-maximum Suppression (viết tắt NMS): loại bỏ các pixel ở vị trí không phải cực đại toàn cục. Ở bước này, ta dùng một filter 3x3 lần lượt chạy qua các pixel trên ảnh gradient. Trong quá trình lọc, ta xem xét xem độ lớn gradient của pixel trung tâm có phải là cực đại (lớn nhất trong cục bộ - local maximum) so với các gradient ở các pixel xung quanh. Nếu là cực đại, ta sẽ ghi nhận sẽ giữ pixel đó lại. Còn nếu pixel tại đó không phải là cực đại lân cận, ta sẽ set độ lớn gradient của nó về zero. Ta chỉ so sánh pixel trung tâm với 2 pixel lân cận theo hướng gradient. Ví dụ: nếu hướng gradient đang là 0 độ, ta sẽ so pixel trung tâm với pixel liền trái và liền phải nó. Trường hợp khác nếu hướng gradient là 45 độ, ta sẽ so sánh với 2 pixel hàng xóm là góc trên bên phải và góc dưới bên trái của pixel trung tâm. Tương tự cho 2 trường hợp hướng gradient còn lại. Kết thúc bước này ta được một mặt nạ nhị phân (ảnh nhị phân - tham khảo bài viết để hiểu ảnh nhị phân nhé). Tham khảo hình dưới:"
   ]
  },
  {
   "cell_type": "markdown",
   "id": "0d32db29",
   "metadata": {},
   "source": [
    "![nms](nms.JPG)"
   ]
  },
  {
   "cell_type": "markdown",
   "id": "4a319283",
   "metadata": {},
   "source": [
    "   * Lọc ngưỡng: ta sẽ xét các pixel dương trên mặt nạ nhị phân kết quả của bước trước. Nếu giá trị gradient vượt ngưỡng max_val thì pixel đó chắc chắn là cạnh. Các pixel có độ lớn gradient nhỏ hơn ngưỡng min_val sẽ bị loại bỏ. Còn các pixel nằm trong khoảng 2 ngưỡng trên sẽ được xem xét rằng nó có nằm liên kề với những pixel được cho là \"chắc chắn là cạnh\" hay không. Nếu liền kề thì ta giữ, còn không liền kề bất cứ pixel cạnh nào thì ta loại. Sau bước này ta có thể áp dụng thêm bước hậu xử lý loại bỏ nhiễu (tức những pixel cạnh rời rạc hay cạnh ngắn) nếu muốn. Ảnh minh họa về ngưỡng lọc:"
   ]
  },
  {
   "cell_type": "markdown",
   "id": "fa696d27",
   "metadata": {},
   "source": [
    "![hysteresis](hysteresis.JPG)"
   ]
  },
  {
   "cell_type": "markdown",
   "id": "3b679aba",
   "metadata": {},
   "source": [
    "<h3>Canny Edge trong OpenCV<h3>"
   ]
  },
  {
   "cell_type": "markdown",
   "id": "eacd955f",
   "metadata": {},
   "source": [
    "Trong OpenCV, để dùng giải thuật Canny, ta đơn giản chỉ cần 1 lệnh cv2.Canny."
   ]
  },
  {
   "cell_type": "code",
   "execution_count": 3,
   "id": "034fb17d",
   "metadata": {},
   "outputs": [
    {
     "data": {
      "text/plain": [
       "-1"
      ]
     },
     "execution_count": 3,
     "metadata": {},
     "output_type": "execute_result"
    }
   ],
   "source": [
    "import cv2\n",
    "import numpy as np\n",
    "\n",
    "def scale_to_0_255(img):\n",
    "    min_val = np.min(img)\n",
    "    max_val = np.max(img)\n",
    "    new_img = (img - min_val) / (max_val - min_val) # 0-1\n",
    "    new_img *= 255\n",
    "    return new_img\n",
    "\n",
    "def my_canny(img, min_val, max_val, sobel_size=3, is_L2_gradient=False):\n",
    "    \"\"\"\n",
    "    Try to implement Canny algorithm in OpenCV tutorial @ https://docs.opencv.org/master/da/d22/tutorial_py_canny.html\n",
    "    \"\"\"\n",
    "    \n",
    "    #2. Noise Reduction\n",
    "    smooth_img = cv2.GaussianBlur(img, ksize=(5, 5), sigmaX=1, sigmaY=1)\n",
    "    \n",
    "    #3. Finding Intensity Gradient of the Image\n",
    "    Gx = cv2.Sobel(smooth_img, cv2.CV_64F, 1, 0, ksize=sobel_size)\n",
    "    Gy = cv2.Sobel(smooth_img, cv2.CV_64F, 0, 1, ksize=sobel_size)\n",
    "        \n",
    "    if is_L2_gradient:\n",
    "        edge_gradient = np.sqrt(Gx*Gx + Gy*Gy)\n",
    "    else:\n",
    "        edge_gradient = np.abs(Gx) + np.abs(Gy)\n",
    "    \n",
    "    angle = np.arctan2(Gy, Gx) * 180 / np.pi\n",
    "    \n",
    "    # round angle to 4 directions\n",
    "    angle = np.abs(angle)\n",
    "    angle[angle <= 22.5] = 0\n",
    "    angle[angle >= 157.5] = 0\n",
    "    angle[(angle > 22.5) * (angle < 67.5)] = 45\n",
    "    angle[(angle >= 67.5) * (angle <= 112.5)] = 90\n",
    "    angle[(angle > 112.5) * (angle <= 157.5)] = 135\n",
    "    \n",
    "    #4. Non-maximum Suppression\n",
    "    keep_mask = np.zeros(smooth_img.shape, np.uint8)\n",
    "    for y in range(1, edge_gradient.shape[0]-1):\n",
    "        for x in range(1, edge_gradient.shape[1]-1):\n",
    "            area_grad_intensity = edge_gradient[y-1:y+2, x-1:x+2] # 3x3 area\n",
    "            area_angle = angle[y-1:y+2, x-1:x+2] # 3x3 area\n",
    "            current_angle = area_angle[1,1]\n",
    "            current_grad_intensity = area_grad_intensity[1,1]\n",
    "            \n",
    "            if current_angle == 0:\n",
    "                if current_grad_intensity > max(area_grad_intensity[1,0], area_grad_intensity[1,2]):\n",
    "                    keep_mask[y,x] = 255\n",
    "                else:\n",
    "                    edge_gradient[y,x] = 0\n",
    "            elif current_angle == 45:\n",
    "                if current_grad_intensity > max(area_grad_intensity[2,0], area_grad_intensity[0,2]):\n",
    "                    keep_mask[y,x] = 255\n",
    "                else:\n",
    "                    edge_gradient[y,x] = 0\n",
    "            elif current_angle == 90:\n",
    "                if current_grad_intensity > max(area_grad_intensity[0,1], area_grad_intensity[2,1]):\n",
    "                    keep_mask[y,x] = 255\n",
    "                else:\n",
    "                    edge_gradient[y,x] = 0\n",
    "            elif current_angle == 135:\n",
    "                if current_grad_intensity > max(area_grad_intensity[0,0], area_grad_intensity[2,2]):\n",
    "                    keep_mask[y,x] = 255\n",
    "                else:\n",
    "                    edge_gradient[y,x] = 0\n",
    "    \n",
    "    #5. Hysteresis Thresholding    \n",
    "    canny_mask = np.zeros(smooth_img.shape, np.uint8)\n",
    "    canny_mask[(keep_mask>0) * (edge_gradient>min_val)] = 255\n",
    "    \n",
    "    return scale_to_0_255(canny_mask)\n",
    "\n",
    "img = cv2.imread('ronaldo.JPG', 0)\n",
    "my_canny = my_canny(img, min_val=100, max_val=200)\n",
    "edges = cv2.Canny(img, 100, 200)\n",
    "cv2.imshow(\"img\",img)\n",
    "cv2.imshow('my_canny.jpg', my_canny)\n",
    "cv2.imshow('edges.jpg', edges)\n",
    "cv2.waitKey(0)"
   ]
  },
  {
   "cell_type": "markdown",
   "id": "2c998631",
   "metadata": {},
   "source": [
    "origin\n",
    "![origin](ronaldo.JPG)\n",
    "my_canny\n",
    "![my_canny](my_canny.JPG)\n",
    "edges\n",
    "![edges](edges.JPG)\n",
    "\n"
   ]
  }
 ],
 "metadata": {
  "kernelspec": {
   "display_name": "Python 3 (ipykernel)",
   "language": "python",
   "name": "python3"
  },
  "language_info": {
   "codemirror_mode": {
    "name": "ipython",
    "version": 3
   },
   "file_extension": ".py",
   "mimetype": "text/x-python",
   "name": "python",
   "nbconvert_exporter": "python",
   "pygments_lexer": "ipython3",
   "version": "3.9.12"
  }
 },
 "nbformat": 4,
 "nbformat_minor": 5
}
