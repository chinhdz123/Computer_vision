{
 "cells": [
  {
   "cell_type": "markdown",
   "id": "51774619",
   "metadata": {},
   "source": [
    "<h2>Image Blurring (Image Smoothing)<h2>"
   ]
  },
  {
   "cell_type": "markdown",
   "id": "f72b22e2",
   "metadata": {},
   "source": [
    "<h3>1.Averaging<h3>"
   ]
  },
  {
   "cell_type": "markdown",
   "id": "c72e2491",
   "metadata": {},
   "source": [
    "Thực hiện bằng cách lấy trung bình của các pixel vùng dưới kernel và thay thế vào trung tâm khu vực đó.\n",
    "Thực hiện bằng hàm cv.blur() hoặc cv.boxFilter().\n",
    "    "
   ]
  },
  {
   "cell_type": "code",
   "execution_count": 2,
   "id": "cea68a78",
   "metadata": {},
   "outputs": [],
   "source": [
    "import cv2 as cv\n",
    "import numpy as np\n",
    "from matplotlib import pyplot as plt\n",
    "img = cv.imread('ronaldo.jpg')"
   ]
  },
  {
   "cell_type": "code",
   "execution_count": 6,
   "id": "0d508ff8",
   "metadata": {},
   "outputs": [
    {
     "data": {
      "text/plain": [
       "-1"
      ]
     },
     "execution_count": 6,
     "metadata": {},
     "output_type": "execute_result"
    }
   ],
   "source": [
    "blur = cv.blur(img,(3,3))\n",
    "cv.imshow(\"original\",img)\n",
    "cv.imshow(\"blur\",blur)\n",
    "cv.waitKey(0)"
   ]
  },
  {
   "cell_type": "markdown",
   "id": "9b460051",
   "metadata": {},
   "source": [
    "<h3>Gaussian Blurring<h3>"
   ]
  },
  {
   "cell_type": "markdown",
   "id": "1f5cee3a",
   "metadata": {},
   "source": [
    "thay vì lấy giá trị trung bình của vùng dưới kernel. Bộ lọc gaussian sử dụng kernel với công thức dưới đây: "
   ]
  },
  {
   "cell_type": "markdown",
   "id": "5111c0d1",
   "metadata": {},
   "source": [
    "![gausee](gaussian.JPG)"
   ]
  },
  {
   "cell_type": "markdown",
   "id": "ae7b968d",
   "metadata": {},
   "source": [
    "$s = -a$   \n",
    "$t = -b$  \n",
    "$a = (m-1)/2$  \n",
    "$b = (n-1)/2$  \n",
    "mxn là kích thước của bộ lọc  \n",
    "K: hằng số  \n",
    "o: sigma độ lệch chuẩn  "
   ]
  },
  {
   "cell_type": "code",
   "execution_count": 8,
   "id": "70cabb11",
   "metadata": {},
   "outputs": [
    {
     "data": {
      "text/plain": [
       "-1"
      ]
     },
     "execution_count": 8,
     "metadata": {},
     "output_type": "execute_result"
    }
   ],
   "source": [
    "blur = cv.GaussianBlur(img,(5,5),0) #kích thước bộ lọc 5x5, sigma = 0\n",
    "cv.imshow(\"original\",img)\n",
    "cv.imshow(\"blur\",blur)\n",
    "cv.waitKey(0)"
   ]
  }
 ],
 "metadata": {
  "kernelspec": {
   "display_name": "Python 3 (ipykernel)",
   "language": "python",
   "name": "python3"
  },
  "language_info": {
   "codemirror_mode": {
    "name": "ipython",
    "version": 3
   },
   "file_extension": ".py",
   "mimetype": "text/x-python",
   "name": "python",
   "nbconvert_exporter": "python",
   "pygments_lexer": "ipython3",
   "version": "3.9.12"
  }
 },
 "nbformat": 4,
 "nbformat_minor": 5
}
