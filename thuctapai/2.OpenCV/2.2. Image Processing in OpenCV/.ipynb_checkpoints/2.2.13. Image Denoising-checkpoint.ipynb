{
 "cells": [
  {
   "cell_type": "markdown",
   "id": "93bba8b4",
   "metadata": {},
   "source": [
    "Việc xử lý nhiễu một hình ảnh đề cập đến quá trình tái thiết tín hiệu từ các hình ảnh ồn ào. Denoising được thực hiện để loại bỏ tiếng ồn không mong muốn từ hình ảnh để phân tích nó ở dạng tốt hơn. Nó đề cập đến một trong những bước tiền xử lý chính. Có bốn chức năng trong OpenCV được sử dụng để khử nhiễu các hình ảnh khác nhau."
   ]
  },
  {
   "cell_type": "code",
   "execution_count": null,
   "id": "a1641707",
   "metadata": {},
   "outputs": [],
   "source": [
    "cv2.fastNlMeansDenoisingColored( P1, P2, float P3, float P4, int P5, int P6)"
   ]
  },
  {
   "cell_type": "markdown",
   "id": "92a16dc7",
   "metadata": {},
   "source": [
    "Parameters:\n",
    "P1 – Ảnh nguồn\n",
    "P2 – Ảnh đích\n",
    "P3 – Kích thước trong pixel của template được sử dụng để tính toán trọng số. Nên là lẻ. Giá trị được đề xuất 7 pixel\n",
    "P4 – Kích thước tính bằng pixel của cửa sổ được sử dụng để tính giá trị trung bình có trọng số cho pixel nhất định. giá trị đề xuất là 21 pixel.\n",
    "P5 – Tham số điều chỉnh cường độ lọc cho thành phần độ chói.\n",
    "P6 – Tương tự như trên nhưng đối với các thành phần màu // Không được sử dụng trong ảnh thang độ xám."
   ]
  },
  {
   "cell_type": "code",
   "execution_count": 12,
   "id": "cd09ab5a",
   "metadata": {},
   "outputs": [
    {
     "data": {
      "text/plain": [
       "-1"
      ]
     },
     "execution_count": 12,
     "metadata": {},
     "output_type": "execute_result"
    }
   ],
   "source": [
    "# importing libraries\n",
    "import numpy as np\n",
    "import cv2\n",
    "from matplotlib import pyplot as plt\n",
    "  \n",
    "# Reading image from folder where it is stored\n",
    "img = cv2.imread('anhnhieu.jpg')\n",
    "  \n",
    "# denoising of image saving it into dst image\n",
    "dst = cv2.fastNlMeansDenoisingColored(img, dst, 10, 10, 7, 15)\n",
    "  \n",
    "# Plotting of source and destination image\n",
    "cv2.imshow(\"img\",img)\n",
    "cv2.imshow(\"dst\",dst)\n",
    "cv2.waitKey(0)"
   ]
  }
 ],
 "metadata": {
  "kernelspec": {
   "display_name": "Python 3 (ipykernel)",
   "language": "python",
   "name": "python3"
  },
  "language_info": {
   "codemirror_mode": {
    "name": "ipython",
    "version": 3
   },
   "file_extension": ".py",
   "mimetype": "text/x-python",
   "name": "python",
   "nbconvert_exporter": "python",
   "pygments_lexer": "ipython3",
   "version": "3.9.12"
  }
 },
 "nbformat": 4,
 "nbformat_minor": 5
}
