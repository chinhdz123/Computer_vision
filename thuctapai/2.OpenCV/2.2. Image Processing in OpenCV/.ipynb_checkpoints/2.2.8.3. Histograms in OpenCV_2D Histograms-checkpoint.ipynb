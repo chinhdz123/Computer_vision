{
 "cells": [
  {
   "cell_type": "markdown",
   "id": "cbdbf6bc",
   "metadata": {},
   "source": [
    "<h3>Introduction<h3>"
   ]
  },
  {
   "cell_type": "markdown",
   "id": "d9372a36",
   "metadata": {},
   "source": [
    "trong bài viết đầu tiên, chúng ta đã tính toán và vẽ biểu đồ một chiều. Nó được gọi là một chiều vì chúng ta chỉ đưa một tính năng vào sự cân nhắc của chúng tôi, tức là giá trị cường độ thang độ xám của pixel. Nhưng trong biểu đồ hai chiều, bạn xem xét hai tính năng. Thông thường, nó được sử dụng để tìm biểu đồ màu trong đó hai tính năng là giá trị HUE & SATVATION của mỗi pixel. Có một mẫu python (mẫu/python/color_histogram.py) đã để tìm biểu đồ màu. Chúng tôi sẽ cố gắng hiểu làm thế nào để tạo ra một biểu đồ màu như vậy, và nó sẽ hữu ích trong việc tìm hiểu các chủ đề tiếp theo như trình chiếu lại biểu đồ."
   ]
  },
  {
   "cell_type": "markdown",
   "id": "a78b6a85",
   "metadata": {},
   "source": [
    "<h3>2D Histogram in OpenCV<h3>"
   ]
  },
  {
   "cell_type": "code",
   "execution_count": null,
   "id": "d758ce10",
   "metadata": {},
   "outputs": [],
   "source": [
    "import numpy as np\n",
    "import cv2 as cv\n",
    "img = cv.imread('ronaldo.jpg')\n",
    "hsv = cv.cvtColor(img,cv.COLOR_BGR2HSV)\n",
    "hist = cv.calcHist([hsv], [0, 1], None, [180, 256], [0, 180, 0, 256])"
   ]
  },
  {
   "cell_type": "markdown",
   "id": "9ab0cf00",
   "metadata": {},
   "source": [
    "<h3>2D Histogram in Numpy<h3>"
   ]
  },
  {
   "cell_type": "code",
   "execution_count": null,
   "id": "7c703b0e",
   "metadata": {},
   "outputs": [],
   "source": [
    "import numpy as np\n",
    "import cv2 as cv\n",
    "from matplotlib import pyplot as plt\n",
    "img = cv.imread('ronaldo.jpg')\n",
    "hsv = cv.cvtColor(img,cv.COLOR_BGR2HSV)\n",
    "hist, xbins, ybins = np.histogram2d(h.ravel(),s.ravel(),[180,256],[[0,180],[0,256]])"
   ]
  },
  {
   "cell_type": "markdown",
   "id": "1ff3ae97",
   "metadata": {},
   "source": [
    "<h3>Plotting 2D Histograms<h3>"
   ]
  },
  {
   "cell_type": "code",
   "execution_count": 1,
   "id": "ddf0967a",
   "metadata": {},
   "outputs": [
    {
     "data": {
      "image/png": "[encoded data removed]",
      "text/plain": [
       "<Figure size 432x288 with 1 Axes>"
      ]
     },
     "metadata": {
      "needs_background": "light"
     },
     "output_type": "display_data"
    }
   ],
   "source": [
    "import numpy as np\n",
    "import cv2 as cv\n",
    "from matplotlib import pyplot as plt\n",
    "img = cv.imread('ronaldo.jpg')\n",
    "hsv = cv.cvtColor(img,cv.COLOR_BGR2HSV)\n",
    "hist = cv.calcHist( [hsv], [0, 1], None, [180, 256], [0, 180, 0, 256] )\n",
    "plt.imshow(hist,interpolation = 'nearest')\n",
    "plt.show()"
   ]
  }
 ],
 "metadata": {
  "kernelspec": {
   "display_name": "Python 3 (ipykernel)",
   "language": "python",
   "name": "python3"
  },
  "language_info": {
   "codemirror_mode": {
    "name": "ipython",
    "version": 3
   },
   "file_extension": ".py",
   "mimetype": "text/x-python",
   "name": "python",
   "nbconvert_exporter": "python",
   "pygments_lexer": "ipython3",
   "version": "3.9.12"
  }
 },
 "nbformat": 4,
 "nbformat_minor": 5
}
