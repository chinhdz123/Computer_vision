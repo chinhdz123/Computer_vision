{
 "cells": [
  {
   "cell_type": "markdown",
   "id": "735612fd",
   "metadata": {},
   "source": [
    "<h3>Code<h3"
   ]
  },
  {
   "cell_type": "markdown",
   "id": "59ddd9a1",
   "metadata": {},
   "source": [
    "Dưới đây chúng ta sẽ lấy một ví dụ về cách sử dụng biến đổi khoảng cách cùng với đầu nguồn để phân đoạn các đối tượng chạm vào lẫn nhau. Hãy xem xét hình ảnh đồng xu bên dưới, các đồng tiền đang chạm vào nhau. Ngay cả khi bạn ngưỡng nó, nó sẽ chạm vào nhau."
   ]
  },
  {
   "cell_type": "markdown",
   "id": "bea16f21",
   "metadata": {},
   "source": [
    "![dongxu](dongxu.jpg)"
   ]
  },
  {
   "cell_type": "markdown",
   "id": "0a8cfdcf",
   "metadata": {},
   "source": [
    "Chúng tôi bắt đầu với việc tìm kiếm một ước tính gần đúng về các đồng tiền. Đối với điều đó, chúng ta có thể sử dụng nhị phân của OTSU."
   ]
  },
  {
   "cell_type": "code",
   "execution_count": 2,
   "id": "c03bc6fa",
   "metadata": {},
   "outputs": [],
   "source": [
    "import numpy as np\n",
    "import cv2 as cv\n",
    "from matplotlib import pyplot as plt\n",
    "img = cv.imread('dongxu.jpg')\n",
    "gray = cv.cvtColor(img,cv.COLOR_BGR2GRAY)\n",
    "ret, thresh = cv.threshold(gray,0,255,cv.THRESH_BINARY_INV+cv.THRESH_OTSU)"
   ]
  },
  {
   "cell_type": "markdown",
   "id": "5540548f",
   "metadata": {},
   "source": [
    "![dongxu1](dongxu1.jpg)"
   ]
  },
  {
   "cell_type": "markdown",
   "id": "09206fe5",
   "metadata": {},
   "source": [
    "Bây giờ chúng ta cần loại bỏ tất cả nhiễu trắng nhỏ trong hình ảnh. Cho rằng chúng ta có thể sử dụng ___morphological opening___. Để loại bỏ bất kỳ lỗ nhỏ trong đối tượng, chúng ta có thể sử dụng ___morphological close___. Vì vậy, bây giờ chúng ta biết chắc chắn rằng khu vực gần trung tâm của các đối tượng là tiền cảnh và khu vực xa đối tượng là nền. Chỉ khu vực chúng tôi không chắc chắn là vùng biên của tiền xu. Vì vậy, chúng tôi cần trích xuất khu vực mà chúng tôi chắc chắn rằng chúng là tiền xu. Xói mòn loại bỏ các pixel ranh giới. Vì vậy, bất cứ điều gì còn lại, chúng tôi có thể chắc chắn đó là tiền xu. Điều đó sẽ hoạt động nếu các đối tượng không chạm vào nhau. Nhưng vì họ đang chạm vào nhau, một lựa chọn tốt khác sẽ là tìm biến đổi khoảng cách và áp dụng một ngưỡng thích hợp. Tiếp theo chúng ta cần tìm khu vực mà chúng tôi chắc chắn rằng chúng không phải là tiền xu. Đối với điều đó, chúng tôi giãn ra kết quả. Sự giãn nở làm tăng ranh giới đối tượng đến nền. Bằng cách này, chúng ta có thể đảm bảo bất kỳ khu vực nào trong kết quả trong kết quả thực sự là một nền tảng, vì vùng biên giới bị loại bỏ. Xem hình ảnh dưới đây."
   ]
  },
  {
   "cell_type": "markdown",
   "id": "2e24d1bd",
   "metadata": {},
   "source": [
    "___Opening___: Làm giảm nhiễu trắng"
   ]
  },
  {
   "cell_type": "markdown",
   "id": "afaabfec",
   "metadata": {},
   "source": [
    "![opening](opening.PNG)"
   ]
  },
  {
   "cell_type": "markdown",
   "id": "89d7fe11",
   "metadata": {},
   "source": [
    "___Closing___: Làm giảm nhiễu đen"
   ]
  },
  {
   "cell_type": "markdown",
   "id": "871d1eb6",
   "metadata": {},
   "source": [
    "![closing](closing.PNG)"
   ]
  },
  {
   "attachments": {},
   "cell_type": "markdown",
   "id": "2ceee309",
   "metadata": {},
   "source": [
    "![region](region.jpg)"
   ]
  },
  {
   "cell_type": "code",
   "execution_count": 3,
   "id": "2550b2fa",
   "metadata": {},
   "outputs": [],
   "source": [
    "# noise removal\n",
    "kernel = np.ones((3,3),np.uint8)\n",
    "opening = cv.morphologyEx(thresh,cv.MORPH_OPEN,kernel, iterations = 2)\n",
    "# sure background area\n",
    "sure_bg = cv.dilate(opening,kernel,iterations=3)\n",
    "# Finding sure foreground area\n",
    "dist_transform = cv.distanceTransform(opening,cv.DIST_L2,5)\n",
    "ret, sure_fg = cv.threshold(dist_transform,0.7*dist_transform.max(),255,0)\n",
    "# Finding unknown region\n",
    "sure_fg = np.uint8(sure_fg)\n",
    "unknown = cv.subtract(sure_bg,sure_fg)"
   ]
  },
  {
   "cell_type": "markdown",
   "id": "e1da9233",
   "metadata": {},
   "source": [
    "![distance](distance.jpg)"
   ]
  },
  {
   "cell_type": "code",
   "execution_count": 4,
   "id": "667bab91",
   "metadata": {},
   "outputs": [],
   "source": [
    "# Marker labelling\n",
    "ret, markers = cv.connectedComponents(sure_fg)\n",
    "# Add one to all labels so that sure background is not 0, but 1\n",
    "markers = markers+1\n",
    "# Now, mark the region of unknown with zero\n",
    "markers[unknown==255] = 0"
   ]
  },
  {
   "cell_type": "code",
   "execution_count": 5,
   "id": "1ec58d3f",
   "metadata": {},
   "outputs": [
    {
     "data": {
      "text/plain": [
       "-1"
      ]
     },
     "execution_count": 5,
     "metadata": {},
     "output_type": "execute_result"
    }
   ],
   "source": [
    "markers = cv.watershed(img,markers)\n",
    "img[markers == -1] = [255,0,0]\n",
    "cv.imshow(\"sure_bg\",sure_bg)\n",
    "cv.imshow(\"sure_fg\",sure_fg)\n",
    "# cv.imshow(\"thresh\",thresh)\n",
    "# cv.imshow(\"opening\",opening)\n",
    "cv.imshow(\"unknown\",unknown)\n",
    "cv.imshow(\"img\",img)\n",
    "cv.waitKey(0)"
   ]
  },
  {
   "cell_type": "markdown",
   "id": "3d878152",
   "metadata": {},
   "source": [
    "![marker](marker.jpg)"
   ]
  }
 ],
 "metadata": {
  "kernelspec": {
   "display_name": "Python 3 (ipykernel)",
   "language": "python",
   "name": "python3"
  },
  "language_info": {
   "codemirror_mode": {
    "name": "ipython",
    "version": 3
   },
   "file_extension": ".py",
   "mimetype": "text/x-python",
   "name": "python",
   "nbconvert_exporter": "python",
   "pygments_lexer": "ipython3",
   "version": "3.9.12"
  }
 },
 "nbformat": 4,
 "nbformat_minor": 5
}
