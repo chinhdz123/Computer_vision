{
 "cells": [
  {
   "cell_type": "markdown",
   "id": "a38cf301",
   "metadata": {},
   "source": [
    "<h3>Đường viền là gì?<h3>"
   ]
  },
  {
   "cell_type": "markdown",
   "id": "b3a665c4",
   "metadata": {},
   "source": [
    "Các đường viền có thể được giải thích đơn giản là một đường cong nối tất cả các điểm liên tục (dọc theo ranh giới), có cùng màu hoặc cường độ. Các đường viền là một công cụ hữu ích để phân tích hình dạng và phát hiện và nhận dạng đối tượng."
   ]
  },
  {
   "cell_type": "markdown",
   "id": "d52aa233",
   "metadata": {},
   "source": [
    "  * Để có độ chính xác tốt hơn, sử dụng hình ảnh nhị phân. Vì vậy, trước khi tìm đường viền, áp dụng ngưỡng hoặc phát hiện cạnh canny.\n",
    "  * Trong OpenCV, việc tìm kiếm các đường viền giống như tìm vật trắng từ nền đen. Vì vậy, hãy nhớ rằng, đối tượng được tìm thấy nên có màu trắng và nền phải là màu đen."
   ]
  },
  {
   "cell_type": "code",
   "execution_count": 69,
   "id": "f922d079",
   "metadata": {},
   "outputs": [],
   "source": [
    "import numpy as np\n",
    "import cv2 as cv\n",
    "img = cv.imread('hinhkhoi1.jpg')\n",
    "imgray = cv.cvtColor(img, cv.COLOR_BGR2GRAY)\n",
    "ret, thresh = cv.threshold(imgray, 127, 255, 0)\n",
    "contours, hierarchy = cv.findContours(thresh, cv.RETR_TREE, cv.CHAIN_APPROX_SIMPLE)"
   ]
  },
  {
   "cell_type": "markdown",
   "id": "002fce7f",
   "metadata": {},
   "source": [
    "<h3>Làm thế nào để vẽ các đường viền<h3>"
   ]
  },
  {
   "cell_type": "markdown",
   "id": "3f0c4173",
   "metadata": {},
   "source": [
    "Để vẽ các đường viền, chức năng ___CV.DrawContours___ được sử dụng. Nó cũng có thể được sử dụng để vẽ bất kỳ hình dạng nào với điều kiện bạn có các điểm ranh giới của nó. Đối số đầu tiên của nó là hình ảnh nguồn, đối số thứ hai là các đường viền nên được truyền dưới dạng danh sách python, đối số thứ ba là chỉ mục của các đường viền và các đối số còn lại là màu, độ dày vân vân."
   ]
  },
  {
   "cell_type": "markdown",
   "id": "34c7914f",
   "metadata": {},
   "source": [
    "   * Để vẽ tất cả đường viền trong ảnh  \n",
    "   ___cv.drawContours(img, contours, -1, (0,255,0), 3)___\n",
    "   * Để vẽ một đường viền riêng biệt\n",
    "   ___cv.drawContours(img, contours, 3, (0,255,0), 3)___\n",
    "   * Nhưng hầu hết các bài toán thường sử dụng  \n",
    "   ___cnt = contours[4]___   \n",
    "   ___cv.drawContours(img, [cnt], 0, (0,255,0), 3)___"
   ]
  },
  {
   "cell_type": "markdown",
   "id": "8e6c5015",
   "metadata": {},
   "source": [
    "Hai phương pháp cuối cùng là giống nhau, nhưng khi sử dụng, bạn sẽ thấy phương pháp cuối cùng hữu ích hơn."
   ]
  },
  {
   "cell_type": "code",
   "execution_count": 70,
   "id": "17577ae2",
   "metadata": {},
   "outputs": [
    {
     "name": "stdout",
     "output_type": "stream",
     "text": [
      "[[[  1   1]]\n",
      "\n",
      " [[  1 268]]\n",
      "\n",
      " [[298 268]]\n",
      "\n",
      " [[298   1]]]\n"
     ]
    },
    {
     "data": {
      "text/plain": [
       "-1"
      ]
     },
     "execution_count": 70,
     "metadata": {},
     "output_type": "execute_result"
    }
   ],
   "source": [
    "cnt = contours[0]\n",
    "print(contours[0])\n",
    "cv.drawContours(img, [cnt], 0, (0,255,0), 3)\n",
    "# cv.drawContours(img, contours, 4, (0,255,255), 3)\n",
    "cv.imshow(\"img\",img)\n",
    "cv.waitKey(0)"
   ]
  },
  {
   "cell_type": "markdown",
   "id": "6493bbd5",
   "metadata": {},
   "source": [
    "<h3>Contour Approximation Method<h3>"
   ]
  },
  {
   "cell_type": "markdown",
   "id": "5f84e010",
   "metadata": {},
   "source": [
    "Đây là đối số thứ ba trong hàm CV.FindContours. Nó biểu thị điều gì thực sự? Ở trên, chúng tôi đã nói rằng các đường viền là ranh giới của một hình dạng có cùng cường độ. Nó lưu trữ tọa độ (x, y) của ranh giới của một hình dạng. Nhưng nó có lưu trữ tất cả các tọa độ không? Được chỉ định bởi phương pháp xấp xỉ đường viền này. Nếu bạn vượt qua cv.chain_approx_none, tất cả các điểm ranh giới đều được lưu trữ. Nhưng thực sự chúng ta có cần tất cả các điểm không? Đối với ví dụ, bạn tìm thấy đường viền của một đường thẳng. Bạn có cần tất cả các điểm trên dòng để thể hiện dòng đó không? Không, chúng tôi chỉ cần hai điểm cuối của dòng đó. Đây là những gì CV.Chain_Approx_Simple làm. Nó loại bỏ tất cả các điểm dư thừa và nén đường viền, do đó lưu bộ nhớ. Dưới đây hình ảnh của một hình chữ nhật thể hiện kỹ thuật này. Chỉ cần vẽ một vòng tròn trên tất cả các tọa độ trong mảng đường viền (được vẽ bằng màu xanh). Hình ảnh đầu tiên hiển thị các điểm tôi có với CV.Chain_Approx_None (734 điểm) và hình ảnh thứ hai hiển thị hình ảnh có CV.Chain_Approx_Simple (chỉ 4 điểm). Hãy xem, nó tiết kiệm bao nhiêu bộ nhớ !!!"
   ]
  }
 ],
 "metadata": {
  "kernelspec": {
   "display_name": "Python 3 (ipykernel)",
   "language": "python",
   "name": "python3"
  },
  "language_info": {
   "codemirror_mode": {
    "name": "ipython",
    "version": 3
   },
   "file_extension": ".py",
   "mimetype": "text/x-python",
   "name": "python",
   "nbconvert_exporter": "python",
   "pygments_lexer": "ipython3",
   "version": "3.9.12"
  }
 },
 "nbformat": 4,
 "nbformat_minor": 5
}
