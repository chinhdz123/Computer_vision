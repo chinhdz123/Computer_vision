{
 "cells": [
  {
   "cell_type": "markdown",
   "id": "5a20493e",
   "metadata": {},
   "source": [
    "<h2>Scaling<h2>"
   ]
  },
  {
   "cell_type": "markdown",
   "id": "2b053f9c",
   "metadata": {},
   "source": [
    "Thay đổi kích thước hình ảnh dùng hàm cv2.resize()"
   ]
  },
  {
   "cell_type": "code",
   "execution_count": 2,
   "id": "0fc576d4",
   "metadata": {},
   "outputs": [],
   "source": [
    "import numpy as np\n",
    "import cv2 as cv\n",
    "img = cv.imread('ronaldo.jpg')\n",
    "res1 = cv.resize(img,None,fx=2, fy=2, interpolation = cv.INTER_CUBIC)\n",
    "#OR\n",
    "height, width = img.shape[:2]\n",
    "res2 = cv.resize(img,(2*width, 2*height), interpolation = cv.INTER_CUBIC)\n",
    "cv.imshow('img',img)\n",
    "cv.imshow('res1',res1)\n",
    "cv.imshow('res2',res2)\n",
    "cv.waitKey(0)\n",
    "cv.destroyAllWindows()"
   ]
  },
  {
   "cell_type": "markdown",
   "id": "3ba19928",
   "metadata": {},
   "source": [
    "<h2>Translation<h2>"
   ]
  },
  {
   "cell_type": "markdown",
   "id": "d8230b2e",
   "metadata": {},
   "source": [
    "Dịch chuyển vị trí của ảnh"
   ]
  },
  {
   "cell_type": "code",
   "execution_count": 6,
   "id": "423c1bc6",
   "metadata": {},
   "outputs": [],
   "source": [
    "rows,cols = img.shape[:2]\n",
    "M = np.float32([[1,0,100],[0,1,50]])\n",
    "dst = cv.warpAffine(img,M,(cols,rows))\n",
    "cv.imshow('img',dst)\n",
    "cv.waitKey(0)\n",
    "cv.destroyAllWindows()"
   ]
  },
  {
   "cell_type": "markdown",
   "id": "2c2d84da",
   "metadata": {},
   "source": [
    "Đối số thứ ba của hàm cv.warpAffine () là kích thước của hình ảnh đầu ra, phải có dạng ** (width, height) **. Hãy nhớ chiều rộng = số cột và chiều cao = số hàng."
   ]
  },
  {
   "cell_type": "markdown",
   "id": "b195e7fb",
   "metadata": {},
   "source": [
    "<h2>Rotation<h2>\n"
   ]
  },
  {
   "cell_type": "markdown",
   "id": "a392c3a7",
   "metadata": {},
   "source": [
    "OpenCV cung cấp vòng quay có tỷ lệ với trung tâm xoay có thể điều chỉnh để bạn có thể xoay tại bất kỳ vị trí nào bạn thích.\n"
   ]
  },
  {
   "cell_type": "code",
   "execution_count": 9,
   "id": "2789e564",
   "metadata": {},
   "outputs": [],
   "source": [
    "M = cv.getRotationMatrix2D(((cols-1)/2.0,(rows-1)/2.0),45,1)\n",
    "dst = cv.warpAffine(img,M,(cols,rows))\n",
    "cv.imshow('img',dst)\n",
    "cv.waitKey(0)\n",
    "cv.destroyAllWindows()"
   ]
  },
  {
   "cell_type": "markdown",
   "id": "f689c70b",
   "metadata": {},
   "source": [
    "<h2>Affine Transformation<h2>"
   ]
  },
  {
   "cell_type": "markdown",
   "id": "2536933e",
   "metadata": {},
   "source": [
    "Trong chuyển đổi affine, tất cả các đường song song trong hình ảnh gốc vẫn sẽ song song trong hình ảnh đầu ra. Để tìm ma trận chuyển đổi, chúng ta cần ba điểm từ hình ảnh đầu vào và các vị trí tương ứng của chúng trong hình ảnh đầu ra. Sau đó cv.getaffinetransform sẽ tạo ra một ma trận 2x3 sẽ được truyền đến cv.warpaffine."
   ]
  },
  {
   "cell_type": "code",
   "execution_count": 10,
   "id": "a266c461",
   "metadata": {},
   "outputs": [],
   "source": [
    "pts1 = np.float32([[50,50],[200,50],[50,200]])\n",
    "pts2 = np.float32([[10,100],[200,50],[100,250]])\n",
    "M = cv.getAffineTransform(pts1,pts2)\n",
    "dst = cv.warpAffine(img,M,(cols,rows))\n",
    "cv.imshow('img',dst)\n",
    "cv.waitKey(0)\n",
    "cv.destroyAllWindows()"
   ]
  },
  {
   "cell_type": "markdown",
   "id": "12e18f27",
   "metadata": {},
   "source": [
    "<h2>Perspective Transformation<h2>"
   ]
  },
  {
   "cell_type": "markdown",
   "id": "8e54b9c7",
   "metadata": {},
   "source": [
    "Để chuyển đổi phối cảnh, bạn cần một ma trận chuyển đổi 3x3. Các đường thẳng sẽ duy trì thẳng ngay cả sau khi chuyển đổi. Để tìm ma trận chuyển đổi này, bạn cần 4 điểm trên hình ảnh đầu vào và các điểm tương ứng trên hình ảnh đầu ra. Trong số 4 điểm này, 3 trong số chúng không nên thẳng hàng. Sau đó, ma trận chuyển đổi có thể được tìm thấy bởi hàm cv.getPerspectivetransform. Sau đó áp dụng CV.WarPPerspective với ma trận chuyển đổi 3x3 này."
   ]
  },
  {
   "cell_type": "code",
   "execution_count": 14,
   "id": "6545e375",
   "metadata": {},
   "outputs": [],
   "source": [
    "pts1 = np.float32([[100,100],[500,52],[28,387],[389,390]])\n",
    "pts2 = np.float32([[0,0],[300,0],[0,300],[300,300]])\n",
    "M = cv.getPerspectiveTransform(pts1,pts2)\n",
    "dst = cv.warpPerspective(img,M,(300,300))\n",
    "cv.imshow('img',dst)\n",
    "cv.waitKey(0)\n",
    "cv.destroyAllWindows()"
   ]
  }
 ],
 "metadata": {
  "kernelspec": {
   "display_name": "Python 3 (ipykernel)",
   "language": "python",
   "name": "python3"
  },
  "language_info": {
   "codemirror_mode": {
    "name": "ipython",
    "version": 3
   },
   "file_extension": ".py",
   "mimetype": "text/x-python",
   "name": "python",
   "nbconvert_exporter": "python",
   "pygments_lexer": "ipython3",
   "version": "3.9.12"
  }
 },
 "nbformat": 4,
 "nbformat_minor": 5
}
