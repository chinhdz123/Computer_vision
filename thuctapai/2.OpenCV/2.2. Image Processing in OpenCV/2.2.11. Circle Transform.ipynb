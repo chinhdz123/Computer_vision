{
 "cells": [
  {
   "cell_type": "markdown",
   "id": "15e7c032",
   "metadata": {},
   "source": [
    "<h3>Theory<h3>"
   ]
  },
  {
   "cell_type": "markdown",
   "id": "6dd44ccb",
   "metadata": {},
   "source": [
    "Một vòng tròn được biểu diễn về mặt toán học là $(x - xcenter)^2+ (y - ycenter)^2 = r2$ trong đó (xcenter, ycenter) là tâm của vòng tròn và r là bán kính của vòng tròn. Từ phương trình, chúng ta có thể thấy chúng ta có 3 tham số, vì vậy chúng ta cần một bộ tích lũy 3D cho biến đổi Hough, điều này sẽ không hiệu quả cao. Vì vậy, OpenCV sử dụng phương pháp khó khăn hơn, phương pháp gradient sử dụng thông tin độ dốc của các cạnh. Hàm chúng tôi sử dụng ở đây là cv.houghcircles ()."
   ]
  },
  {
   "cell_type": "code",
   "execution_count": 8,
   "id": "86db2e3a",
   "metadata": {},
   "outputs": [],
   "source": [
    "import numpy as np\n",
    "import cv2 as cv\n",
    "img = cv.imread('cirle1.jpg',0)\n",
    "img = cv.medianBlur(img,5)\n",
    "cimg = cv.cvtColor(img,cv.COLOR_GRAY2BGR)\n",
    "circles = cv.HoughCircles(img,cv.HOUGH_GRADIENT,1,20,\n",
    "                            param1=50,param2=60,minRadius=30,maxRadius=180)\n",
    "circles = np.uint16(np.around(circles))\n",
    "for i in circles[0,:]:\n",
    "    # draw the outer circle\n",
    "    cv.circle(cimg,(i[0],i[1]),i[2],(0,255,0),2)\n",
    "    # draw the center of the circle\n",
    "    cv.circle(cimg,(i[0],i[1]),2,(0,0,255),3)\n",
    "cv.imshow('detected circles',cimg)\n",
    "cv.waitKey(0)\n",
    "cv.destroyAllWindows()"
   ]
  }
 ],
 "metadata": {
  "kernelspec": {
   "display_name": "Python 3 (ipykernel)",
   "language": "python",
   "name": "python3"
  },
  "language_info": {
   "codemirror_mode": {
    "name": "ipython",
    "version": 3
   },
   "file_extension": ".py",
   "mimetype": "text/x-python",
   "name": "python",
   "nbconvert_exporter": "python",
   "pygments_lexer": "ipython3",
   "version": "3.9.12"
  }
 },
 "nbformat": 4,
 "nbformat_minor": 5
}
