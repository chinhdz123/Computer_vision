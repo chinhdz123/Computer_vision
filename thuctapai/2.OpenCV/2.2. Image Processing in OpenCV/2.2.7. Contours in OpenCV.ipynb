{
 "cells": [
  {
   "cell_type": "markdown",
   "id": "a38cf301",
   "metadata": {},
   "source": [
    "<h3>What is contours?<h3>"
   ]
  },
  {
   "cell_type": "markdown",
   "id": "b3a665c4",
   "metadata": {},
   "source": [
    "Các đường viền có thể được giải thích đơn giản là một đường cong nối tất cả các điểm liên tục (dọc theo ranh giới), có cùng màu hoặc cường độ. Các đường viền là một công cụ hữu ích để phân tích hình dạng và phát hiện và nhận dạng đối tượng."
   ]
  },
  {
   "cell_type": "markdown",
   "id": "d52aa233",
   "metadata": {},
   "source": [
    "  * Để có độ chính xác tốt hơn, sử dụng hình ảnh nhị phân. Vì vậy, trước khi tìm đường viền, áp dụng ngưỡng hoặc phát hiện cạnh canny.\n",
    "  * Trong OpenCV, việc tìm kiếm các đường viền giống như tìm vật trắng từ nền đen. Vì vậy, hãy nhớ rằng, đối tượng được tìm thấy nên có màu trắng và nền phải là màu đen."
   ]
  },
  {
   "cell_type": "code",
   "execution_count": 69,
   "id": "f922d079",
   "metadata": {},
   "outputs": [],
   "source": [
    "import numpy as np\n",
    "import cv2 as cv\n",
    "img = cv.imread('hinhkhoi1.JPG')\n",
    "imgray = cv.cvtColor(img, cv.COLOR_BGR2GRAY)\n",
    "ret, thresh = cv.threshold(imgray, 127, 255, 0)\n",
    "contours, hierarchy = cv.findContours(thresh, cv.RETR_TREE, cv.CHAIN_APPROX_SIMPLE)"
   ]
  },
  {
   "cell_type": "markdown",
   "id": "002fce7f",
   "metadata": {},
   "source": [
    "<h3>How to draw the contours?<h3>"
   ]
  },
  {
   "cell_type": "markdown",
   "id": "3f0c4173",
   "metadata": {},
   "source": [
    "Để vẽ các đường viền, chức năng ___CV.DrawContours___ được sử dụng. Nó cũng có thể được sử dụng để vẽ bất kỳ hình dạng nào với điều kiện bạn có các điểm ranh giới của nó. Đối số đầu tiên của nó là hình ảnh nguồn, đối số thứ hai là các đường viền nên được truyền dưới dạng danh sách python, đối số thứ ba là chỉ mục của các đường viền và các đối số còn lại là màu, độ dày vân vân."
   ]
  },
  {
   "cell_type": "markdown",
   "id": "34c7914f",
   "metadata": {},
   "source": [
    "   * Để vẽ tất cả đường viền trong ảnh  \n",
    "   ___cv.drawContours(img, contours, -1, (0,255,0), 3)___\n",
    "   * Để vẽ một đường viền riêng biệt\n",
    "   ___cv.drawContours(img, contours, 3, (0,255,0), 3)___\n",
    "   * Nhưng hầu hết các bài toán thường sử dụng  \n",
    "   ___cnt = contours[4]___   \n",
    "   ___cv.drawContours(img, [cnt], 0, (0,255,0), 3)___"
   ]
  },
  {
   "cell_type": "markdown",
   "id": "8e6c5015",
   "metadata": {},
   "source": [
    "Hai phương pháp cuối cùng là giống nhau, nhưng khi sử dụng, bạn sẽ thấy phương pháp cuối cùng hữu ích hơn."
   ]
  },
  {
   "cell_type": "code",
   "execution_count": 70,
   "id": "17577ae2",
   "metadata": {},
   "outputs": [
    {
     "name": "stdout",
     "output_type": "stream",
     "text": [
      "[[[  1   1]]\n",
      "\n",
      " [[  1 268]]\n",
      "\n",
      " [[298 268]]\n",
      "\n",
      " [[298   1]]]\n"
     ]
    },
    {
     "data": {
      "text/plain": [
       "-1"
      ]
     },
     "execution_count": 70,
     "metadata": {},
     "output_type": "execute_result"
    }
   ],
   "source": [
    "cnt = contours[0]\n",
    "print(contours[0])\n",
    "cv.drawContours(img, [cnt], 0, (0,255,0), 3)\n",
    "# cv.drawContours(img, contours, 4, (0,255,255), 3)\n",
    "cv.imshow(\"img\",img)\n",
    "cv.waitKey(0)"
   ]
  },
  {
   "cell_type": "markdown",
   "id": "6493bbd5",
   "metadata": {},
   "source": [
    "<h3>Contour Approximation method<h3>"
   ]
  },
  {
   "cell_type": "markdown",
   "id": "5f84e010",
   "metadata": {},
   "source": [
    "Đây là đối số thứ ba trong hàm CV.FindContours. Nó biểu thị điều gì thực sự? Ở trên, chúng tôi đã nói rằng các đường viền là ranh giới của một hình dạng có cùng cường độ. Nó lưu trữ tọa độ (x, y) của ranh giới của một hình dạng. Nhưng nó có lưu trữ tất cả các tọa độ không? Được chỉ định bởi phương pháp xấp xỉ đường viền này. Nếu bạn vượt qua cv.chain_approx_none, tất cả các điểm ranh giới đều được lưu trữ. Nhưng thực sự chúng ta có cần tất cả các điểm không? Đối với ví dụ, bạn tìm thấy đường viền của một đường thẳng. Bạn có cần tất cả các điểm trên dòng để thể hiện dòng đó không? Không, chúng tôi chỉ cần hai điểm cuối của dòng đó. Đây là những gì CV.Chain_Approx_Simple làm. Nó loại bỏ tất cả các điểm dư thừa và nén đường viền, do đó lưu bộ nhớ. Dưới đây hình ảnh của một hình chữ nhật thể hiện kỹ thuật này. Chỉ cần vẽ một vòng tròn trên tất cả các tọa độ trong mảng đường viền (được vẽ bằng màu xanh). Hình ảnh đầu tiên hiển thị các điểm tôi có với CV.Chain_Approx_None (734 điểm) và hình ảnh thứ hai hiển thị hình ảnh có CV.Chain_Approx_Simple (chỉ 4 điểm). Hãy xem, nó tiết kiệm bao nhiêu bộ nhớ !!!"
   ]
  },
  {
   "cell_type": "markdown",
   "id": "e731bb1e",
   "metadata": {},
   "source": [
    "<h3>Moments<h3>"
   ]
  },
  {
   "cell_type": "markdown",
   "id": "3d882ea5",
   "metadata": {},
   "source": [
    "Moments của hình ảnh giúp bạn tính toán một số đặc điểm như khối tâm của vật thể, diện tích của vật thể, v.v."
   ]
  },
  {
   "cell_type": "code",
   "execution_count": 81,
   "id": "b5dd68dc",
   "metadata": {},
   "outputs": [
    {
     "name": "stdout",
     "output_type": "stream",
     "text": [
      "{'m00': 918.0, 'm10': 210139.0, 'm01': 217225.0, 'm20': 48163521.33333333, 'm11': 49724417.0, 'm02': 51510264.0, 'm30': 11052870728.5, 'm21': 11397024499.233334, 'm12': 11790961473.5, 'm03': 12239543570.7, 'mu20': 60689.82897602022, 'mu11': -467.8311546891928, 'mu02': 108629.33224400133, 'mu30': -5970.201217651367, 'mu21': 374932.24934378266, 'mu12': -10332.00201150775, 'mu03': -664610.9921646118, 'nu20': 0.07201625796348536, 'nu11': -0.0005551416058984826, 'nu02': 0.1289026208390901, 'nu30': -0.00023382032815543613, 'nu21': 0.014684058104846678, 'nu12': -0.00040464835484786866, 'nu03': -0.026029199790484205}\n"
     ]
    }
   ],
   "source": [
    "cnt = contours[1]\n",
    "M = cv.moments(cnt)\n",
    "print( M )"
   ]
  },
  {
   "cell_type": "markdown",
   "id": "7bdb0042",
   "metadata": {},
   "source": [
    "<h3>Contours area<h3>"
   ]
  },
  {
   "cell_type": "markdown",
   "id": "12d9e010",
   "metadata": {},
   "source": [
    "Vùng đường bao được cung cấp bởi hàm cv.contourArea () hoặc từ Moments, M ['m00']."
   ]
  },
  {
   "cell_type": "code",
   "execution_count": 76,
   "id": "ff2195d8",
   "metadata": {},
   "outputs": [
    {
     "name": "stdout",
     "output_type": "stream",
     "text": [
      "918.0\n"
     ]
    }
   ],
   "source": [
    "cnt = contours[1]\n",
    "area = cv.contourArea(cnt)\n",
    "print(area)"
   ]
  },
  {
   "cell_type": "markdown",
   "id": "f011c2a2",
   "metadata": {},
   "source": [
    "<h3>Contour Perimeter<h3>"
   ]
  },
  {
   "cell_type": "markdown",
   "id": "0e820cdc",
   "metadata": {},
   "source": [
    "Nó có thể được tìm thấy bằng cách sử dụng hàm cv.arclarge (). Đối số thứ hai chỉ định liệu hình dạng là một đường viền đóng (nếu được thông qua đúng) hoặc chỉ là một đường cong."
   ]
  },
  {
   "cell_type": "code",
   "execution_count": 82,
   "id": "4f4c96e0",
   "metadata": {},
   "outputs": [
    {
     "name": "stdout",
     "output_type": "stream",
     "text": [
      "145.39696860313416\n"
     ]
    }
   ],
   "source": [
    "perimeter = cv.arcLength(cnt,True)\n",
    "print(perimeter)"
   ]
  },
  {
   "cell_type": "markdown",
   "id": "1eee5f4e",
   "metadata": {},
   "source": [
    "<h3>Contour Approximation<h3>"
   ]
  },
  {
   "cell_type": "markdown",
   "id": "718af3dc",
   "metadata": {},
   "source": [
    "Nó xấp xỉ hình dạng đường viền với hình dạng khác với số lượng các đỉnh ít hơn tùy thuộc vào độ chính xác mà chúng ta chỉ định. Đó là một triển khai của thuật toán ___Douglas-Peucker___. Để hiểu điều này, giả sử bạn đang cố gắng tìm một hình vuông trong một hình ảnh, nhưng do một số vấn đề trong hình ảnh, bạn đã không nhận được một hình vuông hoàn hảo, mà là một \"hình dạng xấu\" (như trong hình ảnh đầu tiên bên dưới). Bây giờ bạn có thể sử dụng chức năng này để gần đúng hình dạng. Trong đó, đối số thứ hai được gọi là epsilon, đó là khoảng cách tối đa từ đường viền đến đường viền xấp xỉ. Nó là một tham số chính xác. Một lựa chọn khôn ngoan của epsilon là cần thiết để có được đầu ra chính xác."
   ]
  },
  {
   "cell_type": "code",
   "execution_count": 87,
   "id": "31521d64",
   "metadata": {},
   "outputs": [
    {
     "data": {
      "text/plain": [
       "-1"
      ]
     },
     "execution_count": 87,
     "metadata": {},
     "output_type": "execute_result"
    }
   ],
   "source": [
    "img = cv.imread('vuong.JPG')\n",
    "imgray = cv.cvtColor(img, cv.COLOR_BGR2GRAY)\n",
    "ret, thresh = cv.threshold(imgray, 127, 255, 0)\n",
    "contours, hierarchy = cv.findContours(thresh, cv.RETR_TREE, cv.CHAIN_APPROX_SIMPLE)\n",
    "\n",
    "cnt = contours[1]\n",
    "epsilon = 0.1*cv.arcLength(cnt,True)\n",
    "approx = cv.approxPolyDP(cnt,epsilon,True)\n",
    "cv.drawContours(img, [approx], -1, (255, 0, 0), 3)\n",
    "cv.imshow(\"img\",img)\n",
    "cv.waitKey(0)"
   ]
  },
  {
   "cell_type": "markdown",
   "id": "1a7ae5dc",
   "metadata": {},
   "source": [
    "<h3>Convex Hull<h3>"
   ]
  },
  {
   "cell_type": "markdown",
   "id": "adaba464",
   "metadata": {},
   "source": [
    "Convex hull sẽ trông tương tự như xấp xỉ đường viền, nhưng nó không phải (cả hai có thể cung cấp cùng một kết quả trong một số trường hợp). Ở đây, hàm cv.convexhull () kiểm tra một đường cong cho các lỗi lồi và sửa nó. Nói chung, các đường cong lồi là các đường cong luôn bị phình ra. Và nếu nó bị phồng lên bên trong, nó được gọi là khuyết tật lồi. Ví dụ, kiểm tra hình ảnh dưới đây của bàn tay. Đường màu đỏ cho thấy thân tàu lồi của bàn tay. Các dấu mũi tên hai mặt cho thấy các khiếm khuyết lồi, là độ lệch tối đa cục bộ của thân tàu từ các đường viền."
   ]
  },
  {
   "cell_type": "markdown",
   "id": "4a484167",
   "metadata": {},
   "source": [
    "![convex](convex_hull.JPG)"
   ]
  },
  {
   "cell_type": "markdown",
   "id": "8d3bfe90",
   "metadata": {},
   "source": [
    "<h3>Checking Convexity<h3>"
   ]
  },
  {
   "cell_type": "markdown",
   "id": "a8a77a68",
   "metadata": {},
   "source": [
    "Có một hàm để kiểm tra xem một đường cong có lồi hay không, cv.isContourConvex (). Chỉ trả về true hoặc false."
   ]
  },
  {
   "cell_type": "code",
   "execution_count": 91,
   "id": "65eba319",
   "metadata": {},
   "outputs": [],
   "source": [
    "k = cv.isContourConvex(cnt)"
   ]
  },
  {
   "cell_type": "markdown",
   "id": "fa3b0876",
   "metadata": {},
   "source": [
    "<h3>Bounding Rectangle<h3>"
   ]
  },
  {
   "cell_type": "markdown",
   "id": "1d421d99",
   "metadata": {},
   "source": [
    "___a. Straight Bounding Rectangle___"
   ]
  },
  {
   "cell_type": "markdown",
   "id": "5db1fb4e",
   "metadata": {},
   "source": [
    "Đó là một hình chữ nhật thẳng, nó không xem xét vòng quay của đối tượng. Vì vậy, diện tích của hình chữ nhật giới hạn sẽ không ở mức tối thiểu. Nó được tìm thấy bởi hàm cv.boundrect ()."
   ]
  },
  {
   "cell_type": "code",
   "execution_count": null,
   "id": "06eb6bc9",
   "metadata": {},
   "outputs": [],
   "source": [
    "x,y,w,h = cv.boundingRect(cnt)\n",
    "cv.rectangle(img,(x,y),(x+w,y+h),(0,255,0),2)"
   ]
  },
  {
   "cell_type": "markdown",
   "id": "fdd7099c",
   "metadata": {},
   "source": [
    "___b. Rotated Rectangle___"
   ]
  },
  {
   "cell_type": "markdown",
   "id": "e3b8be3b",
   "metadata": {},
   "source": [
    "Ở đây, hình chữ nhật giới hạn được vẽ với diện tích tối thiểu, vì vậy nó cũng xem xét xoay vòng. Hàm được sử dụng là cv.minarearect (). Nó trả về một cấu trúc Box2D chứa các chi tiết sau - (trung tâm (x, y), (chiều rộng, chiều cao), góc quay). Nhưng để vẽ hình chữ nhật này, chúng ta cần 4 góc của hình chữ nhật. Nó có được bởi hàm cv.boxpoints ()"
   ]
  },
  {
   "cell_type": "code",
   "execution_count": null,
   "id": "002a8515",
   "metadata": {},
   "outputs": [],
   "source": [
    "rect = cv.minAreaRect(cnt)\n",
    "box = cv.boxPoints(rect)\n",
    "box = np.int0(box)\n",
    "cv.drawContours(img,[box],0,(0,0,255),2)"
   ]
  },
  {
   "cell_type": "markdown",
   "id": "b8bc08e8",
   "metadata": {},
   "source": [
    "![boundingrect](boundingrect.png)"
   ]
  },
  {
   "cell_type": "markdown",
   "id": "c2281b0a",
   "metadata": {},
   "source": [
    "<h3>Minimum Enclosing Circle<h3>"
   ]
  },
  {
   "cell_type": "markdown",
   "id": "a3d1c847",
   "metadata": {},
   "source": [
    "Chúng ta tìm đường tròn ngoại tiếp của một đối tượng bằng cách sử dụng hàm cv.minEnclosingCircle (). Nó là một hình tròn bao phủ hoàn toàn vật thể với diện tích tối thiểu."
   ]
  },
  {
   "cell_type": "code",
   "execution_count": null,
   "id": "dda839b7",
   "metadata": {},
   "outputs": [],
   "source": [
    "(x,y),radius = cv.minEnclosingCircle(cnt)\n",
    "center = (int(x),int(y))\n",
    "radius = int(radius)\n",
    "cv.circle(img,center,radius,(0,255,0),2)"
   ]
  },
  {
   "cell_type": "markdown",
   "id": "40670365",
   "metadata": {},
   "source": [
    "![circle](circle.PNG)"
   ]
  },
  {
   "cell_type": "markdown",
   "id": "61890f80",
   "metadata": {},
   "source": [
    "<h3>Fitting an Ellipse<h3>"
   ]
  },
  {
   "cell_type": "markdown",
   "id": "4cc65243",
   "metadata": {},
   "source": [
    "Tiếp theo là lắp một hình elip vào một đối tượng. Nó trả về hình chữ nhật và elip nội tiếp hình chữ nhật đó.\n"
   ]
  },
  {
   "cell_type": "code",
   "execution_count": null,
   "id": "5a1de013",
   "metadata": {},
   "outputs": [],
   "source": [
    "ellipse = cv.fitEllipse(cnt)\n",
    "cv.ellipse(img,ellipse,(0,255,0),2)"
   ]
  },
  {
   "cell_type": "markdown",
   "id": "27606615",
   "metadata": {},
   "source": [
    "![elip](elip.PNG)"
   ]
  },
  {
   "cell_type": "markdown",
   "id": "f122580b",
   "metadata": {},
   "source": [
    "<h3>Fitting a Line<h3>"
   ]
  },
  {
   "cell_type": "code",
   "execution_count": null,
   "id": "f8a67ae2",
   "metadata": {},
   "outputs": [],
   "source": [
    "rows,cols = img.shape[:2]\n",
    "[vx,vy,x,y] = cv.fitLine(cnt, cv.DIST_L2,0,0.01,0.01)\n",
    "lefty = int((-x*vy/vx) + y)\n",
    "righty = int(((cols-x)*vy/vx)+y)\n",
    "cv.line(img,(cols-1,righty),(0,lefty),(0,255,0),2)"
   ]
  },
  {
   "cell_type": "markdown",
   "id": "70778fec",
   "metadata": {},
   "source": [
    "![fitline](fitline.JPG)"
   ]
  }
 ],
 "metadata": {
  "kernelspec": {
   "display_name": "Python 3 (ipykernel)",
   "language": "python",
   "name": "python3"
  },
  "language_info": {
   "codemirror_mode": {
    "name": "ipython",
    "version": 3
   },
   "file_extension": ".py",
   "mimetype": "text/x-python",
   "name": "python",
   "nbconvert_exporter": "python",
   "pygments_lexer": "ipython3",
   "version": "3.9.12"
  }
 },
 "nbformat": 4,
 "nbformat_minor": 5
}
