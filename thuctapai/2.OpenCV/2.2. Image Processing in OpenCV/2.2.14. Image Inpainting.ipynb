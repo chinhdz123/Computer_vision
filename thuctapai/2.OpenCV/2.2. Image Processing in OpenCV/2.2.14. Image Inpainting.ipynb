{
 "cells": [
  {
   "cell_type": "markdown",
   "id": "6af0054b",
   "metadata": {},
   "source": [
    "<h3>Inpainting hoạt động như thế nào với OpenCV?<h3>"
   ]
  },
  {
   "cell_type": "markdown",
   "id": "70f5de15",
   "metadata": {},
   "source": [
    "![inpainting](inpainting.jpg)"
   ]
  },
  {
   "cell_type": "markdown",
   "id": "5776616d",
   "metadata": {},
   "source": [
    "Khi áp dụng inpainting với OpenCV, chúng tôi cần cung cấp hai hình ảnh:\n",
    "   * ___Hình ảnh đầu vào mà chúng tôi muốn inpaint và khôi phục___. Có lẽ, hình ảnh này bị \"hư hỏng\" theo một cách nào đó và chúng tôi cần áp dụng các thuật toán in sơn để sửa chữa nó\n",
    "   * ___Hình ảnh mặt nạ, cho biết vị trí của thiệt hại trong hình ảnh.___ Hình ảnh này phải có cùng kích thước không gian (chiều rộng và chiều cao) như hình ảnh đầu vào. Các điểm ảnh khác 0 tương ứng với các khu vực cần được sơn màu (tức là cố định), trong khi các điểm ảnh 0 được coi là \"bình thường\" và không cần sơn màu"
   ]
  },
  {
   "cell_type": "code",
   "execution_count": 4,
   "id": "d92fff05",
   "metadata": {},
   "outputs": [],
   "source": [
    "import numpy as np\n",
    "import cv2 as cv\n",
    "img = cv.imread('messi2.png')\n",
    "mask = cv.imread('mask_messi.png',0)\n",
    "dst = cv.inpaint(img,mask,3,cv.INPAINT_TELEA)\n",
    "cv.imshow('img',img)\n",
    "cv.imshow('dst',dst)\n",
    "cv.waitKey(0)\n",
    "cv.destroyAllWindows()"
   ]
  },
  {
   "cell_type": "markdown",
   "id": "cac56b8c",
   "metadata": {},
   "source": [
    "<h3>Làm cách nào để chúng ta tạo mặt nạ cho inpainting với OpenCV?<h3>"
   ]
  },
  {
   "cell_type": "markdown",
   "id": "d86ba995",
   "metadata": {},
   "source": [
    "trong thực tế, có.\n",
    "Sử dụng các phương pháp tiếp cận dựa trên học tập sâu, bao gồm mạng nơ-ron đầy đủ và Mạng đối phương chung (GAN), chúng ta có thể “learn to inpaint”.\n",
    "Các mạng này:\n",
    "  * Không cần can thiệp thủ công\n",
    "  * Có thể tạo dữ liệu đào tạo của riêng họ\n",
    "  * Tạo ra các kết quả có tính thẩm mỹ cao hơn so với các thuật toán làm mờ thị giác máy tính truyền thống"
   ]
  }
 ],
 "metadata": {
  "kernelspec": {
   "display_name": "Python 3 (ipykernel)",
   "language": "python",
   "name": "python3"
  },
  "language_info": {
   "codemirror_mode": {
    "name": "ipython",
    "version": 3
   },
   "file_extension": ".py",
   "mimetype": "text/x-python",
   "name": "python",
   "nbconvert_exporter": "python",
   "pygments_lexer": "ipython3",
   "version": "3.9.12"
  }
 },
 "nbformat": 4,
 "nbformat_minor": 5
}
