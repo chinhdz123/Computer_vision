{
 "cells": [
  {
   "cell_type": "markdown",
   "id": "4eeccd16",
   "metadata": {},
   "source": [
    "<h3>Theory<h3>"
   ]
  },
  {
   "cell_type": "markdown",
   "id": "1c5f4ef2",
   "metadata": {},
   "source": [
    "Ý tưởng chính của giải thuật phát hiện đường thẳng Hough Transform đó là:\n",
    "   * Dựa trên kết quả phát hiện cạnh để tiến hành phát hiện đường thẳng. Giải thuật phát hiện cạnh phổ biến là Canny Edge Detection.\n",
    "   * Trên mỗi pixel cạnh (pixel thuộc cạnh được phát hiện trong ảnh), ta lần lượt thử các phương trình đường thẳng đi qua pixel đó. Số phương trình đường thẳng ta thử càng nhiều thì sẽ cho ra kết quả phát hiện đường thẳng càng tốt (ít bỏ lỡ đường thẳng có trong ảnh hơn). Pixel cạnh đó sẽ \"vote\" thêm 1 giá trị vào ma trận thống kê.\n",
    "   * Sau khi duyệt hết tất cả các pixel cạnh, ta sẽ lọc theo một giá trị ngưỡng (xác định trước) trên ma trận thống kê để giữ lại (để xác định được) các phương trình đường thẳng có trong ảnh."
   ]
  },
  {
   "cell_type": "markdown",
   "id": "e47b48bd",
   "metadata": {},
   "source": [
    "Sau khi xác định được các đường thẳng, việc còn lại đơn giản ta chỉ việc vẽ các đường thẳng đó lên ảnh."
   ]
  },
  {
   "cell_type": "markdown",
   "id": "01b2a9e2",
   "metadata": {},
   "source": [
    "<h3>Hough Transform in OpenCV<h3>"
   ]
  },
  {
   "cell_type": "markdown",
   "id": "14cc2763",
   "metadata": {},
   "source": [
    "Các hàm cần thiết để dùng giải thuật Hough Transform đều đã được hiện thực trong thư viện OpenCV:\n",
    "  * cv2.Canny: trích cạnh bằng giải thuật Canny\n",
    "  * cv2.HoughLines: phát hiện đường thẳng bằng giải thuật Hough Transform\n",
    "  * cv2.line: vẽ đường thẳng"
   ]
  },
  {
   "cell_type": "code",
   "execution_count": 7,
   "id": "3e3e0d9a",
   "metadata": {},
   "outputs": [
    {
     "data": {
      "text/plain": [
       "True"
      ]
     },
     "execution_count": 7,
     "metadata": {},
     "output_type": "execute_result"
    }
   ],
   "source": [
    "import cv2 as cv\n",
    "import numpy as np\n",
    "img = cv.imread('sodoku.jpg')\n",
    "gray = cv.cvtColor(img,cv.COLOR_BGR2GRAY)\n",
    "edges = cv.Canny(gray,50,150,apertureSize = 3)\n",
    "lines = cv.HoughLines(edges,1,np.pi/180,200)\n",
    "for line in lines:\n",
    "    rho,theta = line[0]\n",
    "    a = np.cos(theta)\n",
    "    b = np.sin(theta)\n",
    "    x0 = a*rho\n",
    "    y0 = b*rho\n",
    "    x1 = int(x0 + 10*(-b))\n",
    "    y1 = int(y0 + 10*(a))\n",
    "    x2 = int(x0 - 10*(-b))\n",
    "    y2 = int(y0 - 10*(a))\n",
    "    cv.line(img,(x1,y1),(x2,y2),(0,0,255),2)\n",
    "cv.imwrite('houghlines3.jpg',img)"
   ]
  },
  {
   "cell_type": "markdown",
   "id": "08db7cb6",
   "metadata": {},
   "source": [
    "![houghlines3](houghlines3.jpg)"
   ]
  },
  {
   "cell_type": "markdown",
   "id": "afc25d94",
   "metadata": {},
   "source": [
    "Các tham số được sử dụng lần lượt là:\n",
    "   * edges: Đầu ra của bộ lọc biên.\n",
    "   * lines: Vector lưu kết quả dưới dạng (, ).\n",
    "   * rho: Độ phân giải của  theo đơn vị pixel. Ở đây có giá trị 1 (pixel).\n",
    "   * theta: Độ phân giải của  tính theo radian. Giá trị sử dụng ở đây là 1 độ (np.pi/180).\n",
    "   * threshold: Số lượng voting tối thiểu để xác định một đường thẳng.\n",
    "   * srn, stn: 2 tham số cuối. Khi chúng ta sử dụng thuật toán Hough transform nguyên bản, 2 tham số này bằng 0."
   ]
  },
  {
   "cell_type": "markdown",
   "id": "692a019f",
   "metadata": {},
   "source": [
    "<h3>Probabilistic Hough Transform<h3>"
   ]
  },
  {
   "cell_type": "code",
   "execution_count": null,
   "id": "d9d63dc7",
   "metadata": {},
   "outputs": [],
   "source": [
    "linesP = cv.HoughLinesP(edges), 1, np.pi / 180, 50, None, 50, 10)"
   ]
  },
  {
   "cell_type": "markdown",
   "id": "5451c535",
   "metadata": {},
   "source": [
    "Hàm này ngoài các tham số giống cv.HoughLines như edges, rho, theta, threshold còn có thêm:"
   ]
  },
  {
   "cell_type": "markdown",
   "id": "bcda5511",
   "metadata": {},
   "source": [
    "   * minLinLength: số điểm tối thiểu tạo nên một đường thẳng. Các đường tìm được có số điểm nhỏ hơn số này sẽ được loại bỏ khỏi kết qủa.\n",
    "   * maxLineGap: Khoảng cách lớn nhất giữa 2 điểm để có thể coi chúng vẫn cùng một đường thẳng. Trong ảnh gốc rất có thể nhiều đường thẳng bị mờ, nhiễu, khi cho qua bộ lọc biên Canny, các đường thẳng sẽ trở thành các đường đứt quãng (hay các điểm riêng biệt). Tham số này quyết định việc có coi các đoạn đứt quãng đó thuộc cùng một đường hay không."
   ]
  },
  {
   "cell_type": "markdown",
   "id": "def410d7",
   "metadata": {},
   "source": [
    "![line_house](line_house.JPG)"
   ]
  }
 ],
 "metadata": {
  "kernelspec": {
   "display_name": "Python 3 (ipykernel)",
   "language": "python",
   "name": "python3"
  },
  "language_info": {
   "codemirror_mode": {
    "name": "ipython",
    "version": 3
   },
   "file_extension": ".py",
   "mimetype": "text/x-python",
   "name": "python",
   "nbconvert_exporter": "python",
   "pygments_lexer": "ipython3",
   "version": "3.9.12"
  }
 },
 "nbformat": 4,
 "nbformat_minor": 5
}
