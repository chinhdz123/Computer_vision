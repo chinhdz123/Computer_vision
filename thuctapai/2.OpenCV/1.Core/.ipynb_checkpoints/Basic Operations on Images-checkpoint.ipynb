{
 "cells": [
  {
   "cell_type": "markdown",
   "id": "59551f94",
   "metadata": {},
   "source": [
    "Truy cập và sửa đổi giá trị pixel"
   ]
  },
  {
   "cell_type": "code",
   "execution_count": null,
   "id": "e77c2c7d",
   "metadata": {},
   "outputs": [],
   "source": [
    "#Tải ảnh lên \n",
    "import cv2\n",
    "import numpy as np"
   ]
  },
  {
   "cell_type": "code",
   "execution_count": null,
   "id": "3d282ff3",
   "metadata": {},
   "outputs": [],
   "source": [
    "img = cv2.imread(\"hand.jpg\")"
   ]
  },
  {
   "cell_type": "code",
   "execution_count": 29,
   "id": "3236324c",
   "metadata": {},
   "outputs": [
    {
     "name": "stdout",
     "output_type": "stream",
     "text": [
      "[57 63 68]\n"
     ]
    }
   ],
   "source": [
    "#gọi giá trị pixel tại điểm hàng 100 cột 100\n",
    "px = img[100,100]\n",
    "print(px)\n",
    "#trả về ma trận 1x3 vì đây là ảnh màu BGR(Blue, Green, Red)"
   ]
  },
  {
   "cell_type": "code",
   "execution_count": 4,
   "id": "167a557c",
   "metadata": {},
   "outputs": [
    {
     "name": "stdout",
     "output_type": "stream",
     "text": [
      "7\n"
     ]
    }
   ],
   "source": [
    "#gọi giá trị blue pixel tại điểm hàng 100, cột 100\n",
    "blue_px = img[100,100,0]\n",
    "print(blue_px)"
   ]
  },
  {
   "cell_type": "code",
   "execution_count": 5,
   "id": "479d3289",
   "metadata": {},
   "outputs": [
    {
     "name": "stdout",
     "output_type": "stream",
     "text": [
      "[255 255 255]\n"
     ]
    }
   ],
   "source": [
    "#sửa đổi giá trị pixel\n",
    "img[100,100] = [255,255,255]\n",
    "print(img[100,100])"
   ]
  },
  {
   "cell_type": "code",
   "execution_count": 15,
   "id": "a845beb4",
   "metadata": {},
   "outputs": [
    {
     "name": "stdout",
     "output_type": "stream",
     "text": [
      "100\n"
     ]
    }
   ],
   "source": [
    "#phương pháp tốt hơn để thay đổi giá trị pixel\n",
    "print(img.item(50,50,1))\n"
   ]
  },
  {
   "cell_type": "code",
   "execution_count": 16,
   "id": "b7f4a719",
   "metadata": {},
   "outputs": [
    {
     "name": "stdout",
     "output_type": "stream",
     "text": [
      "150\n"
     ]
    }
   ],
   "source": [
    "img.itemset((50,50,1),150)\n",
    "print(img.item(50,50,1))"
   ]
  },
  {
   "cell_type": "markdown",
   "id": "dd3fee1c",
   "metadata": {},
   "source": [
    "Truy cập vào thuộc tính hình ảnh"
   ]
  },
  {
   "cell_type": "code",
   "execution_count": 17,
   "id": "4d7315c8",
   "metadata": {},
   "outputs": [
    {
     "name": "stdout",
     "output_type": "stream",
     "text": [
      "(755, 1200, 3)\n"
     ]
    }
   ],
   "source": [
    "#Thuộc tính hình ảnh bao gồm số lượng hàng, cột và kênh; loại dữ liệu hình ảnh; số pixel;....\n",
    "#Hình dạng của một hình ảnh được truy cập bởi Img.Shape. Nó trả về một bộ của số lượng hàng, cột và kênh (nếu hình ảnh có màu):\n",
    "print( img.shape )"
   ]
  },
  {
   "cell_type": "code",
   "execution_count": 18,
   "id": "2b4dc2b6",
   "metadata": {},
   "outputs": [
    {
     "name": "stdout",
     "output_type": "stream",
     "text": [
      "2718000\n"
     ]
    }
   ],
   "source": [
    "#tổng pixel được tính bằng img.size\n",
    "print(img.size)"
   ]
  },
  {
   "cell_type": "code",
   "execution_count": 19,
   "id": "17112805",
   "metadata": {},
   "outputs": [
    {
     "name": "stdout",
     "output_type": "stream",
     "text": [
      "uint8\n"
     ]
    }
   ],
   "source": [
    "#Kiểu dữ liệu hình ảnh có được bởi 'img.dtype':\n",
    "print( img.dtype )"
   ]
  },
  {
   "cell_type": "markdown",
   "id": "9c0618e4",
   "metadata": {},
   "source": [
    "Image ROI"
   ]
  },
  {
   "cell_type": "code",
   "execution_count": 42,
   "id": "937852e4",
   "metadata": {},
   "outputs": [
    {
     "data": {
      "text/plain": [
       "-1"
      ]
     },
     "execution_count": 42,
     "metadata": {},
     "output_type": "execute_result"
    }
   ],
   "source": [
    "#Đôi khi chúng ta chỉ làm việc 1 vùng nhất định trên ảnh ví dụ như khuân mặt, trái bóng,..\n",
    "hand = img[320:433, 330:478]\n",
    "cv2.imshow(\"hand\",hand)\n",
    "cv2.waitKey(0)"
   ]
  },
  {
   "cell_type": "markdown",
   "id": "b3faa25f",
   "metadata": {},
   "source": [
    "Chia và hợp nhất các kênh hình ảnh"
   ]
  },
  {
   "cell_type": "code",
   "execution_count": null,
   "id": "ceff050e",
   "metadata": {},
   "outputs": [],
   "source": [
    "#Đôi khi sẽ cần phải làm việc riêng biệt trên các kênh B, G, R của hình ảnh.\n",
    "b,g,r = cv.split(img)\n",
    "img = cv.merge((b,g,r))\n"
   ]
  },
  {
   "cell_type": "code",
   "execution_count": null,
   "id": "a5a1c66d",
   "metadata": {},
   "outputs": [],
   "source": [
    "#Giả sử bạn muốn đặt tất cả các pixel màu đỏ thành 0 - bạn không cần phải chia các kênh trước. Dùng Numpy sẽ nhanh hơn:\n",
    "img[:,:,2] = 0"
   ]
  },
  {
   "cell_type": "markdown",
   "id": "fafdd0e4",
   "metadata": {},
   "source": [
    "Making Borders for Images (Padding)"
   ]
  },
  {
   "cell_type": "code",
   "execution_count": null,
   "id": "7f4101d1",
   "metadata": {},
   "outputs": [],
   "source": [
    "BLUE = [255,0,0]\n",
    "origin = cv2.imread('logo.png')\n",
    "origin = cv2.resize(origin,(480,640))\n",
    "replicate = cv2.copyMakeBorder(origin,10,10,10,10,cv2.BORDER_REPLICATE)\n",
    "reflect = cv2.copyMakeBorder(origin,10,10,10,10,cv2.BORDER_REFLECT)\n",
    "constant= cv2.copyMakeBorder(origin,10,10,10,10,cv2.BORDER_CONSTANT,value=BLUE)\n",
    "cv2.imshow(\"origin\",origin)\n",
    "cv2.imshow(\"replicate\",replicate)\n",
    "cv2.imshow(\"reflect\",reflect)\n",
    "cv2.imshow(\"constant\",constant)\n",
    "cv2.waitKey(0)\n",
    "cv2.destroyAllWindows()"
   ]
  }
 ],
 "metadata": {
  "kernelspec": {
   "display_name": "Python 3 (ipykernel)",
   "language": "python",
   "name": "python3"
  },
  "language_info": {
   "codemirror_mode": {
    "name": "ipython",
    "version": 3
   },
   "file_extension": ".py",
   "mimetype": "text/x-python",
   "name": "python",
   "nbconvert_exporter": "python",
   "pygments_lexer": "ipython3",
   "version": "3.9.12"
  }
 },
 "nbformat": 4,
 "nbformat_minor": 5
}
