{
 "cells": [
  {
   "cell_type": "markdown",
   "id": "2ad7ab1d",
   "metadata": {},
   "source": [
    "In image processing, since you are dealing with a large number of operations per second, it is mandatory that your code is not only providing the correct solution, but that it is also providing it in the fastest manner. "
   ]
  },
  {
   "cell_type": "markdown",
   "id": "559ab81c",
   "metadata": {},
   "source": [
    "Measuring Performance with OpenCV"
   ]
  },
  {
   "cell_type": "raw",
   "id": "90cae0d1",
   "metadata": {},
   "source": [
    "The cv.getTickCount function returns the number of clock-cycles after a reference event (like the moment the machine was switched ON) to the moment this function is called. So if you call it before and after the function execution, you get the number of clock-cycles used to execute a function.\n",
    "The cv.getTickFrequency function returns the frequency of clock-cycles, or the number of clock-cycles per second. So to find the time of execution in seconds, you can do following:"
   ]
  },
  {
   "cell_type": "code",
   "execution_count": 2,
   "id": "73ffcdd4",
   "metadata": {},
   "outputs": [],
   "source": [
    "import numpy as np\n",
    "import cv2\n"
   ]
  },
  {
   "cell_type": "code",
   "execution_count": 3,
   "id": "f2ec9e2c",
   "metadata": {},
   "outputs": [
    {
     "name": "stdout",
     "output_type": "stream",
     "text": [
      "0.1581024\n"
     ]
    }
   ],
   "source": [
    "img1 = cv2.imread('messi1.jpg')\n",
    "e1 = cv2.getTickCount()\n",
    "for i in range(5,49,2):\n",
    "    img1 = cv2.medianBlur(img1,i)\n",
    "e2 = cv2.getTickCount()\n",
    "t = (e2 - e1)/cv2.getTickFrequency()\n",
    "print( t )"
   ]
  },
  {
   "cell_type": "markdown",
   "id": "0849e554",
   "metadata": {},
   "source": [
    "Default Optimization in OpenCV"
   ]
  },
  {
   "cell_type": "code",
   "execution_count": 5,
   "id": "e17dda14",
   "metadata": {},
   "outputs": [
    {
     "data": {
      "text/plain": [
       "True"
      ]
     },
     "execution_count": 5,
     "metadata": {},
     "output_type": "execute_result"
    }
   ],
   "source": [
    "# check if optimization is enabled\n",
    "cv2.useOptimized()"
   ]
  },
  {
   "cell_type": "code",
   "execution_count": 9,
   "id": "067781ae",
   "metadata": {},
   "outputs": [
    {
     "name": "stdout",
     "output_type": "stream",
     "text": [
      "6.26 ms ± 483 µs per loop (mean ± std. dev. of 7 runs, 100 loops each)\n"
     ]
    }
   ],
   "source": [
    "%timeit res = cv2.medianBlur(img1,49)"
   ]
  },
  {
   "cell_type": "code",
   "execution_count": 10,
   "id": "e71e131c",
   "metadata": {},
   "outputs": [
    {
     "name": "stdout",
     "output_type": "stream",
     "text": [
      "8.32 ms ± 1.25 ms per loop (mean ± std. dev. of 7 runs, 100 loops each)\n"
     ]
    }
   ],
   "source": [
    "# Disable it\n",
    "cv2.setUseOptimized(False)\n",
    "%timeit res = cv2.medianBlur(img1,49)\n",
    "#we can see Default Optimization in OpenCV faster than  the unoptimized version"
   ]
  },
  {
   "cell_type": "code",
   "execution_count": null,
   "id": "26186bd2",
   "metadata": {},
   "outputs": [],
   "source": []
  }
 ],
 "metadata": {
  "kernelspec": {
   "display_name": "Python 3 (ipykernel)",
   "language": "python",
   "name": "python3"
  },
  "language_info": {
   "codemirror_mode": {
    "name": "ipython",
    "version": 3
   },
   "file_extension": ".py",
   "mimetype": "text/x-python",
   "name": "python",
   "nbconvert_exporter": "python",
   "pygments_lexer": "ipython3",
   "version": "3.9.12"
  }
 },
 "nbformat": 4,
 "nbformat_minor": 5
}
