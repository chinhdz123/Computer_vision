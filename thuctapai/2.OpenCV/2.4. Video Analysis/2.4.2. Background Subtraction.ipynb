{
 "cells": [
  {
   "cell_type": "markdown",
   "id": "5b4ebe02",
   "metadata": {},
   "source": [
    "<h3>Basic<h3>"
   ]
  },
  {
   "cell_type": "markdown",
   "id": "888da8ea",
   "metadata": {},
   "source": [
    "Background subtraction là bước tiền xử lý ảnh chính trong nhiều ứng dụng computer vision. Ví dụ trong trường hợp trong một khách sạn có một camera tĩnh muốn đếm số lượng khách đi vào và đi ra, hoặc camera giao thông muốn trích xuất thông tin về giao thông. Bạn cần phải trích xuất chuyển động từ ảnh tĩnh."
   ]
  },
  {
   "cell_type": "markdown",
   "id": "c505b0c7",
   "metadata": {},
   "source": [
    "Nếu bạn có một hình ảnh chỉ có nền, giống như một hình ảnh của căn phòng không có du khách, hình ảnh của con đường không có phương tiện,... đó là một công việc dễ dàng. Chỉ cần trừ hình ảnh mới từ nền. Bạn nhận được các đối tượng tiền cảnh một mình.Nhưng nó trở nên phức tạp hơn khi có bóng của các phương tiện. Vì bóng cũng di chuyển, phép trừ đơn giản sẽ đánh dấu đó là tiền cảnh. Một số thuật toán đã được giới thiệu cho mục đích này. Sau đây, chúng ta sẽ xem xét hai thuật toán."
   ]
  },
  {
   "cell_type": "markdown",
   "id": "98e7a6aa",
   "metadata": {},
   "source": [
    "<h3>BackgroundSubtractorMOG<h3>"
   ]
  },
  {
   "cell_type": "code",
   "execution_count": 6,
   "id": "a474b006",
   "metadata": {},
   "outputs": [
    {
     "ename": "AttributeError",
     "evalue": "module 'cv2' has no attribute 'bgsegm'",
     "output_type": "error",
     "traceback": [
      "\u001b[1;31m---------------------------------------------------------------------------\u001b[0m",
      "\u001b[1;31mAttributeError\u001b[0m                            Traceback (most recent call last)",
      "Input \u001b[1;32mIn [6]\u001b[0m, in \u001b[0;36m<cell line: 5>\u001b[1;34m()\u001b[0m\n\u001b[0;32m      3\u001b[0m cap \u001b[38;5;241m=\u001b[39m cv\u001b[38;5;241m.\u001b[39mVideoCapture(\u001b[38;5;124m'\u001b[39m\u001b[38;5;124mvtest.avi.webm\u001b[39m\u001b[38;5;124m'\u001b[39m)\n\u001b[0;32m      4\u001b[0m kernel \u001b[38;5;241m=\u001b[39m cv\u001b[38;5;241m.\u001b[39mgetStructuringElement(cv\u001b[38;5;241m.\u001b[39mMORPH_ELLIPSE,(\u001b[38;5;241m3\u001b[39m,\u001b[38;5;241m3\u001b[39m))\n\u001b[1;32m----> 5\u001b[0m fgbg \u001b[38;5;241m=\u001b[39m \u001b[43mcv\u001b[49m\u001b[38;5;241;43m.\u001b[39;49m\u001b[43mbgsegm\u001b[49m\u001b[38;5;241m.\u001b[39mcreateBackgroundSubtractorGMG()\n\u001b[0;32m      6\u001b[0m \u001b[38;5;28;01mwhile\u001b[39;00m(\u001b[38;5;241m1\u001b[39m):\n\u001b[0;32m      7\u001b[0m     ret, frame \u001b[38;5;241m=\u001b[39m cap\u001b[38;5;241m.\u001b[39mread()\n",
      "\u001b[1;31mAttributeError\u001b[0m: module 'cv2' has no attribute 'bgsegm'"
     ]
    }
   ],
   "source": [
    "import numpy as np\n",
    "import cv2 as cv\n",
    "cap = cv.VideoCapture('vtest.avi.webm')\n",
    "kernel = cv.getStructuringElement(cv.MORPH_ELLIPSE,(3,3))\n",
    "fgbg = cv.bgsegm.createBackgroundSubtractorGMG()\n",
    "while(1):\n",
    "    ret, frame = cap.read()\n",
    "    fgmask = fgbg.apply(frame)\n",
    "    fgmask = cv.morphologyEx(fgmask, cv.MORPH_OPEN, kernel)\n",
    "    cv.imshow('frame',fgmask)\n",
    "    k = cv.waitKey(30) & 0xff\n",
    "    if k == 27:\n",
    "        break\n",
    "cap.release()\n",
    "cv.destroyAllWindows()"
   ]
  },
  {
   "attachments": {},
   "cell_type": "markdown",
   "id": "8f4a4c28",
   "metadata": {},
   "source": [
    "![origin](origin.JPG)"
   ]
  },
  {
   "cell_type": "markdown",
   "id": "0c75cc03",
   "metadata": {},
   "source": [
    "![MOG](MOG.JPG)"
   ]
  },
  {
   "cell_type": "markdown",
   "id": "734313c9",
   "metadata": {},
   "source": [
    "<h3>BackgroundSubtractorGMG<h3>"
   ]
  },
  {
   "cell_type": "code",
   "execution_count": null,
   "id": "9a277954",
   "metadata": {},
   "outputs": [],
   "source": [
    "import numpy as np\n",
    "import cv2 as cv\n",
    "cap = cv.VideoCapture('vtest.avi.webm')\n",
    "kernel = cv.getStructuringElement(cv.MORPH_ELLIPSE,(3,3))\n",
    "fgbg = cv.bgsegm.createBackgroundSubtractorGMG()\n",
    "while(1):\n",
    "    ret, frame = cap.read()\n",
    "    fgmask = fgbg.apply(frame)\n",
    "    fgmask = cv.morphologyEx(fgmask, cv.MORPH_OPEN, kernel)\n",
    "    cv.imshow('frame',fgmask)\n",
    "    k = cv.waitKey(30) & 0xff\n",
    "    if k == 27:\n",
    "        break\n",
    "cap.release()\n",
    "cv.destroyAllWindows()"
   ]
  },
  {
   "cell_type": "markdown",
   "id": "701a7508",
   "metadata": {},
   "source": [
    "![GMG](GMG.JPG)"
   ]
  }
 ],
 "metadata": {
  "kernelspec": {
   "display_name": "Python 3 (ipykernel)",
   "language": "python",
   "name": "python3"
  },
  "language_info": {
   "codemirror_mode": {
    "name": "ipython",
    "version": 3
   },
   "file_extension": ".py",
   "mimetype": "text/x-python",
   "name": "python",
   "nbconvert_exporter": "python",
   "pygments_lexer": "ipython3",
   "version": "3.9.12"
  }
 },
 "nbformat": 4,
 "nbformat_minor": 5
}
