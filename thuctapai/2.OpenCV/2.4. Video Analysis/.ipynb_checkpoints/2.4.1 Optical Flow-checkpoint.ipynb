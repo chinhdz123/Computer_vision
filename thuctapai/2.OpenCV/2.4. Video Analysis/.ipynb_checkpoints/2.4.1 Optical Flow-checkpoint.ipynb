{
 "cells": [
  {
   "cell_type": "markdown",
   "id": "6bb4ac0c",
   "metadata": {},
   "source": [
    "<h3>What is Optical Flow?<h3>"
   ]
  },
  {
   "cell_type": "markdown",
   "id": "9279531c",
   "metadata": {},
   "source": [
    "Optical flow is a task of per-pixel motion estimation between two consecutive frames in one video. Basically, the Optical Flow task implies the calculation of the shift vector for pixel as an object displacement difference between two neighboring images. The main idea of Optical Flow is to estimate the object’s displacement vector caused by it’s motion or camera movements."
   ]
  },
  {
   "cell_type": "markdown",
   "id": "6b131182",
   "metadata": {},
   "source": [
    "![Optical flow](Opticalflow.JPG)"
   ]
  },
  {
   "cell_type": "markdown",
   "id": "5684752d",
   "metadata": {},
   "source": [
    "<h3>Theoretical basics<h3>"
   ]
  },
  {
   "cell_type": "markdown",
   "id": "13dc8a94",
   "metadata": {},
   "source": [
    "Let’s assume that we have a gray-scale image – the matrix with pixel intensity. We define the function I(x,y,t), where x,y – pixel coordinates and t – frame number. The I(x,y,t) function defines the exact pixel intensity at the frame t."
   ]
  },
  {
   "cell_type": "markdown",
   "id": "c93fd4da",
   "metadata": {},
   "source": [
    "To start with, we assume that the object displacement doesn’t change the pixels intensity that belongs to the exact object, it means that $I(x,y,t) = I(x+ \\Delta x, y+ \\Delta y, t + \\Delta t)$. In our case $\\Delta t = 1$. The major concern is to find the motion vector $(\\Delta x, \\Delta y)$. Let’s take a look at graphical representation:"
   ]
  },
  {
   "cell_type": "markdown",
   "id": "889a08af",
   "metadata": {},
   "source": [
    "![move](move.JPG)"
   ]
  },
  {
   "cell_type": "markdown",
   "id": "26305760",
   "metadata": {},
   "source": [
    "Using Taylor series expansion we can rewrite $I(x,y,t) - I_(x+ \\Delta x, y+ \\Delta y, t + \\Delta t) = 0$ as $I'_x u + I'_y v = - I'_t$, where $u = \\frac{dx}{dt}, v = \\frac{dy}{dt}$, and $I'_x, I'_y$ are image gradients. It is important that here we assume that parts of higher-order Taylor series are negligible, so this is a function approximation using only first-order Taylor’s expansion. The pixel motion difference between two frames I_1 and I_2 can be written as $I_1 - I_2 \\approx I'_x u + I'_y v + I'_t$. Now, we have two variables u, v and only one equation, so we can’t solve the equation right now, but we can use some tricks which will be disclosed in the following algorithms."
   ]
  },
  {
   "cell_type": "markdown",
   "id": "eb19b9fd",
   "metadata": {},
   "source": [
    "<h3>Optical Flow applications<h3>"
   ]
  },
  {
   "cell_type": "markdown",
   "id": "42e31540",
   "metadata": {},
   "source": [
    "Optical Flow can be used in many areas where the object’s motion information is crucial. Optical Flow is commonly found in video editors for compression, stabilization, slow-motion, etc. Also, Optical Flow finds its application in Action Recognition tasks and real-time tracking systems."
   ]
  },
  {
   "cell_type": "markdown",
   "id": "1298fdc9",
   "metadata": {},
   "source": [
    "<h3>Lucas-Kanade method<h3>"
   ]
  },
  {
   "cell_type": "markdown",
   "id": "6e6655b5",
   "metadata": {},
   "source": [
    "We have seen an assumption before, that all the neighbouring pixels will have similar motion. Lucas-Kanade method takes a 3x3 patch around the point. So all the 9 points have the same motion. We can find $(fx,fy,ft)$ for these 9 points. So now our problem becomes solving 9 equations with two unknown variables which is over-determined. A better solution is obtained with least square fit method. Below is the final solution which is two equation-two unknown problem and solve to get the solution."
   ]
  },
  {
   "cell_type": "markdown",
   "id": "01590270",
   "metadata": {},
   "source": [
    "![lucas](lucas.PNG)"
   ]
  },
  {
   "cell_type": "markdown",
   "id": "760f2304",
   "metadata": {},
   "source": [
    "So from the user point of view, the idea is simple, we give some points to track, we receive the optical flow vectors of those points. But again there are some problems. Until now, we were dealing with small motions, so it fails when there is a large motion. To deal with this we use pyramids. When we go up in the pyramid, small motions are removed and large motions become small motions. So by applying Lucas-Kanade there, we get optical flow along with the scale."
   ]
  },
  {
   "cell_type": "markdown",
   "id": "65744b8d",
   "metadata": {},
   "source": [
    "<h3>Lucas-Kanade Optical Flow in OpenCV<h3>"
   ]
  },
  {
   "cell_type": "markdown",
   "id": "00bf5ce0",
   "metadata": {},
   "source": [
    "OpenCV provides all these in a single function, cv.calcOpticalFlowPyrLK(). Here, we create a simple application which tracks some points in a video. To decide the points, we use cv.goodFeaturesToTrack(). We take the first frame, detect some Shi-Tomasi corner points in it, then we iteratively track those points using Lucas-Kanade optical flow. For the function cv.calcOpticalFlowPyrLK() we pass the previous frame, previous points and next frame. It returns next points along with some status numbers which has a value of 1 if next point is found, else zero. We iteratively pass these next points as previous points in next step. See the code below:"
   ]
  },
  {
   "cell_type": "code",
   "execution_count": 10,
   "id": "7f1b4204",
   "metadata": {},
   "outputs": [
    {
     "name": "stdout",
     "output_type": "stream",
     "text": [
      "No frames grabbed!\n"
     ]
    }
   ],
   "source": [
    "import numpy as np\n",
    "import cv2 as cv\n",
    "\n",
    "cap = cv.VideoCapture(\"slow_traffic_small.mp4\")\n",
    "# params for ShiTomasi corner detection\n",
    "feature_params = dict( maxCorners = 100,\n",
    "                       qualityLevel = 0.3,\n",
    "                       minDistance = 7,\n",
    "                       blockSize = 7 )\n",
    "# Parameters for lucas kanade optical flow\n",
    "lk_params = dict( winSize  = (15, 15),\n",
    "                  maxLevel = 2,\n",
    "                  criteria = (cv.TERM_CRITERIA_EPS | cv.TERM_CRITERIA_COUNT, 10, 0.03))\n",
    "# Create some random colors\n",
    "color = np.random.randint(0, 255, (100, 3))\n",
    "# Take first frame and find corners in it\n",
    "ret, old_frame = cap.read()\n",
    "old_gray = cv.cvtColor(old_frame, cv.COLOR_BGR2GRAY)\n",
    "p0 = cv.goodFeaturesToTrack(old_gray, mask = None, **feature_params)\n",
    "# Create a mask image for drawing purposes\n",
    "mask = np.zeros_like(old_frame)\n",
    "while(1):\n",
    "    ret, frame = cap.read()\n",
    "    if not ret:\n",
    "        print('No frames grabbed!')\n",
    "        break\n",
    "    frame_gray = cv.cvtColor(frame, cv.COLOR_BGR2GRAY)\n",
    "    # calculate optical flow\n",
    "    p1, st, err = cv.calcOpticalFlowPyrLK(old_gray, frame_gray, p0, None, **lk_params)\n",
    "    # Select good points\n",
    "    if p1 is not None:\n",
    "        good_new = p1[st==1]\n",
    "        good_old = p0[st==1]\n",
    "    # draw the tracks\n",
    "    for i, (new, old) in enumerate(zip(good_new, good_old)):\n",
    "        a, b = new.ravel()\n",
    "        c, d = old.ravel()\n",
    "        mask = cv.line(mask, (int(a), int(b)), (int(c), int(d)), color[i].tolist(), 2)\n",
    "        frame = cv.circle(frame, (int(a), int(b)), 5, color[i].tolist(), -1)\n",
    "    img = cv.add(frame, mask)\n",
    "    cv.imshow('frame', img)\n",
    "    k = cv.waitKey(30) & 0xff\n",
    "    if k == 27:\n",
    "        break\n",
    "    # Now update the previous frame and previous points\n",
    "    old_gray = frame_gray.copy()\n",
    "    p0 = good_new.reshape(-1, 1, 2)\n",
    "cv.destroyAllWindows()"
   ]
  },
  {
   "cell_type": "markdown",
   "id": "45ef4db1",
   "metadata": {},
   "source": [
    "![carmove](carmove.JPG)"
   ]
  }
 ],
 "metadata": {
  "kernelspec": {
   "display_name": "Python 3 (ipykernel)",
   "language": "python",
   "name": "python3"
  },
  "language_info": {
   "codemirror_mode": {
    "name": "ipython",
    "version": 3
   },
   "file_extension": ".py",
   "mimetype": "text/x-python",
   "name": "python",
   "nbconvert_exporter": "python",
   "pygments_lexer": "ipython3",
   "version": "3.9.12"
  }
 },
 "nbformat": 4,
 "nbformat_minor": 5
}
