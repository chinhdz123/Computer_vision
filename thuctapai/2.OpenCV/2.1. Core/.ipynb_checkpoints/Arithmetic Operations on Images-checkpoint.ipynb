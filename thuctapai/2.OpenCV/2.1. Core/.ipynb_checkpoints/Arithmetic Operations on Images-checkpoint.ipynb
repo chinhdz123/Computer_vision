{
 "cells": [
  {
   "cell_type": "markdown",
   "id": "58587473",
   "metadata": {},
   "source": [
    "Image Addition"
   ]
  },
  {
   "cell_type": "code",
   "execution_count": 3,
   "id": "02bde1d0",
   "metadata": {},
   "outputs": [
    {
     "name": "stdout",
     "output_type": "stream",
     "text": [
      "[250] [10]\n",
      "[[255]]\n",
      "[4]\n"
     ]
    }
   ],
   "source": [
    "#You can add two images with the OpenCV function, cv.add(), or simply by the numpy operation res = img1 + img2. \n",
    "#Both images should be of same depth and type, or the second image can just be a scalar value.\n",
    "import numpy as np\n",
    "import cv2\n",
    "x = np.uint8([250]) \n",
    "y = np.uint8([10])\n",
    "print(cv2.add(x,y)) # 250+10 = 260 => 255 add bằng opencv thì sẽ bị bão hòa nếu qua 255\n",
    "print(x+y) # 250+10 = 260 % 256 = 4 add bằng np thì lấy phần dư qua 255 "
   ]
  },
  {
   "cell_type": "markdown",
   "id": "9c45ef94",
   "metadata": {},
   "source": [
    "Image Blending"
   ]
  },
  {
   "cell_type": "raw",
   "id": "9ad6d050",
   "metadata": {},
   "source": [
    "This is also image addition, but different weights are given to images in order to give a feeling of blending or transparency. \n",
    "Images are added as per the equation below\n",
    "   g(x)=(1−α)f0(x)+αf1(x)\n",
    "By varying α from 0→1, you can perform a cool transition between one image to another.\n",
    "\n",
    "Here I took two images to blend together. The first image is given a weight of 0.7 and the second image is given 0.3. cv.addWeighted() applies the following equation to the image:\n",
    "    dst=α⋅img1+β⋅img2+γ\n",
    "Here γ is taken as zero."
   ]
  },
  {
   "cell_type": "code",
   "execution_count": 12,
   "id": "0e4ded37",
   "metadata": {},
   "outputs": [],
   "source": [
    "img1 = cv2.imread('roi.jpg')\n",
    "img2 = cv2.imread('messi1.jpg')\n",
    "img1 = cv2.resize(img1,(480,640))\n",
    "img2 = cv2.resize(img2,(480,640))\n",
    "dst = cv2.addWeighted(img1,0.7,img2,0.3,0)\n",
    "cv2.imshow('dst',dst)\n",
    "cv2.waitKey(0)\n",
    "cv2.destroyAllWindows()"
   ]
  },
  {
   "cell_type": "markdown",
   "id": "c87070cf",
   "metadata": {},
   "source": [
    "BITWISE OPERATIONS"
   ]
  },
  {
   "cell_type": "code",
   "execution_count": 25,
   "id": "1d39f7c4",
   "metadata": {},
   "outputs": [],
   "source": [
    "img1 = np.zeros((300, 300), dtype=\"uint8\")\n",
    "cv2.rectangle(img1, (60, 60), (240, 240), 255, -1)\n",
    "cv2.imshow(\"Image 1\", img1)\n",
    " \n",
    "img2 = np.zeros((300, 300), dtype=\"uint8\")\n",
    "cv2.circle(img2, (150, 150), 90, 255, -1)\n",
    "cv2.imshow(\"Image 2\", img2)\n",
    " \n",
    "rect_and_circle = cv2.bitwise_and(img1,img2)\n",
    "cv2.imshow(\"AND operation\",rect_and_circle)\n",
    " \n",
    "rect_or_circle = cv2.bitwise_or(img1,img2)\n",
    "cv2.imshow(\"OR operation\",rect_or_circle)\n",
    " \n",
    "rect_xor_circle = cv2.bitwise_xor(img1,img2)\n",
    "cv2.imshow(\"XOR Operation\",rect_xor_circle)\n",
    " \n",
    "rect_xor_circle2 = cv2.bitwise_xor(img1,img2)\n",
    "cv2.imshow(\"XOR Operation\",rect_xor_circle2)\n",
    " \n",
    " \n",
    " \n",
    "cv2.waitKey(0)\n",
    "cv2.destroyAllWindows()"
   ]
  }
 ],
 "metadata": {
  "kernelspec": {
   "display_name": "Python 3 (ipykernel)",
   "language": "python",
   "name": "python3"
  },
  "language_info": {
   "codemirror_mode": {
    "name": "ipython",
    "version": 3
   },
   "file_extension": ".py",
   "mimetype": "text/x-python",
   "name": "python",
   "nbconvert_exporter": "python",
   "pygments_lexer": "ipython3",
   "version": "3.9.12"
  }
 },
 "nbformat": 4,
 "nbformat_minor": 5
}
