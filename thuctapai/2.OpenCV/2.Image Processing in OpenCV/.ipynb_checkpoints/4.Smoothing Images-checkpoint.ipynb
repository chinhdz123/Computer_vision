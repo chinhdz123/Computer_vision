{
 "cells": [
  {
   "cell_type": "markdown",
   "id": "2acc8927",
   "metadata": {},
   "source": [
    "Image Blurring (Image Smoothing)"
   ]
  },
  {
   "cell_type": "markdown",
   "id": "1407af24",
   "metadata": {},
   "source": [
    "1.Averaging"
   ]
  },
  {
   "cell_type": "raw",
   "id": "8ebf3e50",
   "metadata": {},
   "source": [
    "Thực hiện bằng cách lấy trung bình của các pixel vùng dưới kernel và thay thế vào trung tâm khu vực đó.\n",
    "Thực hiện bằng hàm cv.blur() hoặc cv.boxFilter().\n",
    "    "
   ]
  },
  {
   "cell_type": "code",
   "execution_count": null,
   "id": "1d4c7b8d",
   "metadata": {},
   "outputs": [],
   "source": [
    "import cv2 as cv\n",
    "import numpy as np\n",
    "from matplotlib import pyplot as plt\n",
    "img = cv.imread('ronaldo.png')\n",
    "blur = cv.blur(img,(5,5))"
   ]
  }
 ],
 "metadata": {
  "kernelspec": {
   "display_name": "Python 3 (ipykernel)",
   "language": "python",
   "name": "python3"
  },
  "language_info": {
   "codemirror_mode": {
    "name": "ipython",
    "version": 3
   },
   "file_extension": ".py",
   "mimetype": "text/x-python",
   "name": "python",
   "nbconvert_exporter": "python",
   "pygments_lexer": "ipython3",
   "version": "3.9.12"
  }
 },
 "nbformat": 4,
 "nbformat_minor": 5
}
