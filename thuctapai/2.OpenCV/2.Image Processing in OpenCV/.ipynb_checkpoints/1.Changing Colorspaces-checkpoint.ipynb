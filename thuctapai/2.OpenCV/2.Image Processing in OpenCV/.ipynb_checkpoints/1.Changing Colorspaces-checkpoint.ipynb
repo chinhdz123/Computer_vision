{
 "cells": [
  {
   "cell_type": "markdown",
   "id": "f8b36b4d",
   "metadata": {},
   "source": [
    "Changing Color-space"
   ]
  },
  {
   "cell_type": "raw",
   "id": "ce7edf7b",
   "metadata": {},
   "source": [
    "Có hơn 150 phương pháp chuyển đổi không gian màu trong Opencv nhưng có 2 màu được sử dụng nhiều nhất là BGR và HSV\n",
    "Để chuyển đổi màu, dùng hàm  cv.cvtColor(input_image, flag), flag là loại chuyển đổi màu."
   ]
  },
  {
   "cell_type": "markdown",
   "id": "dcac395c",
   "metadata": {},
   "source": [
    "Object Tracking"
   ]
  },
  {
   "cell_type": "raw",
   "id": "978a8c4b",
   "metadata": {},
   "source": [
    "Trong HSV, việc thể hiện một màu sắc dễ dàng hơn trong không gian màu BGR. Bên dưới chúng ta sẽ cố gắng trích xuất một đối tượng màu xanh.\n",
    "HSV\n",
    "H: (Hue) Vùng màu\n",
    "S: (Saturation) Độ bão hòa màu\n",
    "B (hay V): (Bright hay Value) độ sáng"
   ]
  },
  {
   "cell_type": "code",
   "execution_count": 3,
   "id": "c6c472a4",
   "metadata": {},
   "outputs": [],
   "source": [
    "import cv2 as cv\n",
    "import numpy as np\n",
    "frame = cv.imread(\"blue.jpg\")\n",
    "hsv = cv.cvtColor(frame, cv.COLOR_BGR2HSV)\n",
    "# define range of blue color in HSV\n",
    "lower_blue = np.array([110,50,50])\n",
    "upper_blue = np.array([130,255,255])\n",
    "# Threshold the HSV image to get only blue colors\n",
    "mask = cv.inRange(hsv, lower_blue, upper_blue)\n",
    "# Bitwise-AND mask and original image\n",
    "res = cv.bitwise_and(frame,frame, mask= mask)\n",
    "cv.imshow('frame',frame)\n",
    "cv.imshow('mask',mask)\n",
    "cv.imshow('res',res)\n",
    "cv.waitKey(0)\n",
    "cv.destroyAllWindows()"
   ]
  },
  {
   "cell_type": "raw",
   "id": "653204ff",
   "metadata": {},
   "source": []
  }
 ],
 "metadata": {
  "kernelspec": {
   "display_name": "Python 3 (ipykernel)",
   "language": "python",
   "name": "python3"
  },
  "language_info": {
   "codemirror_mode": {
    "name": "ipython",
    "version": 3
   },
   "file_extension": ".py",
   "mimetype": "text/x-python",
   "name": "python",
   "nbconvert_exporter": "python",
   "pygments_lexer": "ipython3",
   "version": "3.9.12"
  }
 },
 "nbformat": 4,
 "nbformat_minor": 5
}
