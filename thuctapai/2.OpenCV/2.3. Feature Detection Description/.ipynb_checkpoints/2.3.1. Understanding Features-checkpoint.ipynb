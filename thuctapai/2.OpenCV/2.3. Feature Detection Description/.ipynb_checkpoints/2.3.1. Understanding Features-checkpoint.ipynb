{
 "cells": [
  {
   "cell_type": "markdown",
   "id": "0acd2aae",
   "metadata": {},
   "source": [
    "<h3>Explanation<h3>"
   ]
  },
  {
   "cell_type": "markdown",
   "id": "546571f5",
   "metadata": {},
   "source": [
    "Hầu hết các bạn sẽ chơi các trò chơi ghép hình. Bạn nhận được rất nhiều mảnh nhỏ của một hình ảnh và bạn cần lắp ráp chúng một cách chính xác để tạo thành một hình ảnh thực lớn. Câu hỏi là, làm thế nào bạn làm điều đó? Làm điều đó với máy tính như thế nào? Nếu máy tính có thể chơi các câu đố ghép hình, tại sao chúng ta không thể đưa ra nhiều hình ảnh ngoài đời thực của một khung cảnh tự nhiên tốt cho máy tính và bảo nó khâu tất cả những hình ảnh đó vào một hình ảnh lớn? Nếu máy tính có thể khâu một số hình ảnh tự nhiên thành một, thì việc đưa ra nhiều hình ảnh về tòa nhà hoặc bất kỳ cấu trúc nào và nói với máy tính để tạo mô hình 3D từ nó?"
   ]
  },
  {
   "cell_type": "markdown",
   "id": "f2ce347b",
   "metadata": {},
   "source": [
    "Rất khó để nói làm thế nào con người tìm thấy những đặc điểm này. Điều này đã được lập trình sẵn trong não của chúng ta. Nhưng nếu chúng ta nhìn sâu vào một số hình ảnh và tìm kiếm các mẫu khác nhau, chúng ta sẽ thấy điều gì đó thú vị. Ví dụ, hãy lấy hình ảnh bên dưới:"
   ]
  },
  {
   "cell_type": "markdown",
   "id": "40c7db40",
   "metadata": {},
   "source": [
    "![feature_building](feature_building.JPG)"
   ]
  },
  {
   "cell_type": "markdown",
   "id": "4947aa60",
   "metadata": {},
   "source": [
    "Hình ảnh rất đơn giản. Ở trên cùng của hình ảnh, sáu bản vá hình ảnh nhỏ được đưa ra. Câu hỏi dành cho bạn là tìm vị trí chính xác của các bản vá lỗi này trong ảnh gốc. Bạn có thể tìm được bao nhiêu kết quả đúng?"
   ]
  },
  {
   "cell_type": "markdown",
   "id": "21984c34",
   "metadata": {},
   "source": [
    "A và B là các bề mặt phẳng và chúng được trải rộng trên rất nhiều diện tích. Rất khó để tìm ra vị trí chính xác của các bản vá lỗi này.\n",
    "\n",
    "C và D đơn giản hơn nhiều. Chúng là các cạnh của tòa nhà. Bạn có thể tìm thấy một vị trí gần đúng, nhưng vị trí chính xác vẫn còn khó khăn. Điều này là do mô hình giống nhau ở khắp mọi nơi dọc theo cạnh. Ở rìa, tuy nhiên, nó là khác nhau. Do đó, một cạnh là tính năng tốt hơn so với diện tích phẳng, nhưng chưa đủ tốt (Nó tốt trong trò chơi ghép hình để so sánh tính liên tục của các cạnh).\n",
    "\n",
    "Cuối cùng, E và F là một số góc của tòa nhà. Và chúng có thể dễ dàng tìm thấy. Bởi vì ở các góc, bất cứ nơi nào bạn di chuyển miếng dán này, nó sẽ trông khác nhau. Vì vậy chúng có thể được coi là những tính năng tốt. Vì vậy, bây giờ chúng ta chuyển sang hình ảnh đơn giản hơn (và được sử dụng rộng rãi) để hiểu rõ hơn."
   ]
  },
  {
   "cell_type": "markdown",
   "id": "42f3c525",
   "metadata": {},
   "source": [
    "![feature_simple](feature_simple.PNG)"
   ]
  },
  {
   "cell_type": "markdown",
   "id": "c5013904",
   "metadata": {},
   "source": [
    "Cũng giống như ở trên, mảng màu xanh là khu vực bằng phẳng và khó tìm và theo dõi. Bất cứ nơi nào bạn di chuyển miếng dán màu xanh, nó trông giống nhau. Miếng dán màu đen có cạnh. Nếu bạn di chuyển nó theo hướng thẳng đứng (tức là dọc theo gradient), nó sẽ thay đổi. Đã di chuyển dọc theo cạnh (song song với cạnh), nó trông giống nhau. Và đối với miếng vá màu đỏ, nó là một góc. Bất cứ nơi nào bạn di chuyển bản vá, nó trông khác nhau, có nghĩa là nó là duy nhất. Vì vậy, về cơ bản, các góc được coi là các tính năng tốt trong một hình ảnh. (Không chỉ các góc, trong một số trường hợp, các đốm màu được coi là các tính năng tốt).\n",
    "\n",
    "Vì vậy, bây giờ chúng tôi đã trả lời câu hỏi của chúng tôi, \"những tính năng này là gì?\". Nhưng câu hỏi tiếp theo được đặt ra. Làm thế nào để chúng tôi tìm thấy chúng? Hoặc làm thế nào để chúng tôi tìm thấy các góc? Chúng tôi đã trả lời rằng theo cách trực quan, tức là, hãy tìm các vùng trong hình ảnh có sự thay đổi lớn nhất khi di chuyển (một lượng nhỏ) trong tất cả các vùng xung quanh nó. Điều này sẽ được dự kiến ​​thành ngôn ngữ máy tính trong các chương tới. Vì vậy, việc tìm kiếm các tính năng hình ảnh này được gọi là Phát hiện tính năng .\n",
    "\n",
    "Chúng tôi tìm thấy các tính năng trong hình ảnh. Khi bạn đã tìm thấy nó, bạn sẽ có thể tìm thấy điều tương tự trong các hình ảnh khác. Làm thế nào là điều này được thực hiện? Chúng tôi lấy một khu vực xung quanh đối tượng địa lý, chúng tôi giải thích nó theo cách của chúng tôi, chẳng hạn như \"phần trên là bầu trời xanh, phần dưới là khu vực từ một tòa nhà, trên tòa nhà đó có kính, v.v.\" và bạn tìm kiếm cùng một khu vực trong tòa nhà kia hình ảnh. Về cơ bản, bạn đang mô tả tính năng. Tương tự, máy tính cũng nên mô tả khu vực xung quanh đối tượng địa lý để máy tính có thể tìm thấy nó trong các hình ảnh khác. Vì vậy, được gọi là mô tả được gọi là Mô tả tính năng . Khi bạn có các tính năng và mô tả của nó, bạn có thể tìm thấy các tính năng giống nhau trong tất cả các hình ảnh và căn chỉnh chúng, ghép chúng lại với nhau hoặc làm bất cứ điều gì bạn muốn.\n",
    "\n",
    "Vì vậy, trong mô-đun này, chúng tôi đang tìm kiếm các thuật toán khác nhau trong OpenCV để tìm các tính năng, mô tả chúng, đối sánh chúng, v.v."
   ]
  }
 ],
 "metadata": {
  "kernelspec": {
   "display_name": "Python 3 (ipykernel)",
   "language": "python",
   "name": "python3"
  },
  "language_info": {
   "codemirror_mode": {
    "name": "ipython",
    "version": 3
   },
   "file_extension": ".py",
   "mimetype": "text/x-python",
   "name": "python",
   "nbconvert_exporter": "python",
   "pygments_lexer": "ipython3",
   "version": "3.9.12"
  }
 },
 "nbformat": 4,
 "nbformat_minor": 5
}
