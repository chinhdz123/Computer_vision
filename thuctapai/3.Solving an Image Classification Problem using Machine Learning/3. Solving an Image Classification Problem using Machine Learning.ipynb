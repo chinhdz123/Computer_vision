{
 "cells": [
  {
   "cell_type": "markdown",
   "id": "19f78082",
   "metadata": {},
   "source": [
    "<h3> Bước 1: Gather data<h3>"
   ]
  },
  {
   "cell_type": "markdown",
   "id": "3fc85d7f",
   "metadata": {},
   "source": [
    "Thu thập dữ liệu là bước quan trọng nhất trong giải quyết bất ký một vấn đề phân loại trong học máy nào. Nó ảnh hưởng lớn tới kết quả phân loại của bạn."
   ]
  },
  {
   "cell_type": "markdown",
   "id": "1f3c62a3",
   "metadata": {},
   "source": [
    "<h3>Bước 2: Explore Your Data<h3>"
   ]
  },
  {
   "cell_type": "markdown",
   "id": "db03fb78",
   "metadata": {},
   "source": [
    "Xây dựng và đào tạo model chỉ là một phần của quá trình làm việc. Hiểu các đặc điểm của dữ liệu sẽ cho phép bạn xây dựng được một model tốt hơn, chính xác hơn, yêu cầu ít data hơn, giảm thời gian tính toán."
   ]
  },
  {
   "cell_type": "markdown",
   "id": "82232a7b",
   "metadata": {},
   "source": [
    "__1.Load the Dataset__"
   ]
  },
  {
   "cell_type": "code",
   "execution_count": null,
   "id": "5c2ea8cb",
   "metadata": {},
   "outputs": [],
   "source": [
    "def load_imdb_sentiment_analysis_dataset(data_path, seed=123):\n",
    "    \"\"\"Loads the IMDb movie reviews sentiment analysis dataset.\n",
    "\n",
    "    # Arguments\n",
    "        data_path: string, path to the data directory.\n",
    "        seed: int, seed for randomizer.\n",
    "\n",
    "    # Returns\n",
    "        A tuple of training and validation data.\n",
    "        Number of training samples: 25000\n",
    "        Number of test samples: 25000\n",
    "        Number of categories: 2 (0 - negative, 1 - positive)\n",
    "\n",
    "    # References\n",
    "        Mass et al., http://www.aclweb.org/anthology/P11-1015\n",
    "\n",
    "        Download and uncompress archive from:\n",
    "        http://ai.stanford.edu/~amaas/data/sentiment/aclImdb_v1.tar.gz\n",
    "    \"\"\"\n",
    "    imdb_data_path = os.path.join(data_path, 'aclImdb')\n",
    "\n",
    "    # Load the training data\n",
    "    train_texts = []\n",
    "    train_labels = []\n",
    "    for category in ['pos', 'neg']:\n",
    "        train_path = os.path.join(imdb_data_path, 'train', category)\n",
    "        for fname in sorted(os.listdir(train_path)):\n",
    "            if fname.endswith('.txt'):\n",
    "                with open(os.path.join(train_path, fname)) as f:\n",
    "                    train_texts.append(f.read())\n",
    "                train_labels.append(0 if category == 'neg' else 1)\n",
    "\n",
    "    # Load the validation data.\n",
    "    test_texts = []\n",
    "    test_labels = []\n",
    "    for category in ['pos', 'neg']:\n",
    "        test_path = os.path.join(imdb_data_path, 'test', category)\n",
    "        for fname in sorted(os.listdir(test_path)):\n",
    "            if fname.endswith('.txt'):\n",
    "                with open(os.path.join(test_path, fname)) as f:\n",
    "                    test_texts.append(f.read())\n",
    "                test_labels.append(0 if category == 'neg' else 1)\n",
    "\n",
    "    # Shuffle the training data and labels.\n",
    "    random.seed(seed)\n",
    "    random.shuffle(train_texts)\n",
    "    random.seed(seed)\n",
    "    random.shuffle(train_labels)\n",
    "\n",
    "    return ((train_texts, np.array(train_labels)),\n",
    "            (test_texts, np.array(test_labels)))"
   ]
  },
  {
   "cell_type": "markdown",
   "id": "57fa991a",
   "metadata": {},
   "source": [
    "___2.Check the Data___"
   ]
  },
  {
   "cell_type": "markdown",
   "id": "9a3ce7da",
   "metadata": {},
   "source": [
    "Sau khi tải dữ liệu lên, kiểm tra thủ công xem dữ liệu có phù hợp yêu cầu của mình không, có đánh nhãn đúng chưa. Ví dụ hình mặt cười có nhãn là \"tích cực\" hay không"
   ]
  },
  {
   "cell_type": "markdown",
   "id": "2214338b",
   "metadata": {},
   "source": [
    "___3.Collect Key Metrics___"
   ]
  },
  {
   "cell_type": "markdown",
   "id": "12694e83",
   "metadata": {},
   "source": [
    "Sau khi bạn đã xác minh được dữ liệu, hãy thu thập các dữ liệu quan trọng có thể giúp khái quát vấn đề phân loại."
   ]
  },
  {
   "cell_type": "markdown",
   "id": "b122fdfd",
   "metadata": {},
   "source": [
    "1. Số lượng mẫu\n",
    "2. Số lớp\n",
    "3. Số lượng mẫu cho mỗi lớp"
   ]
  },
  {
   "cell_type": "markdown",
   "id": "0ee92016",
   "metadata": {},
   "source": [
    "<h3>Step 3: Choose a Model<h3>"
   ]
  },
  {
   "cell_type": "markdown",
   "id": "0284ac71",
   "metadata": {},
   "source": [
    "Tiếp theo, dựa trên các số liệu chúng ta tập hợp ở Bước 2, chúng ta nên suy nghĩ về mô hình phân loại nào chúng ta nên sử dụng.Ví dụ như Logistic Regression, Perceptron Learning Algorithm chỉ dùng để phân loại cho 2 classes. Phân loại nhiều class với Softmax Regression."
   ]
  },
  {
   "cell_type": "markdown",
   "id": "216824ca",
   "metadata": {},
   "source": [
    "<h3>Step 4: Prepare data<h3>"
   ]
  },
  {
   "cell_type": "markdown",
   "id": "b2057f84",
   "metadata": {},
   "source": [
    "___1. Feature Engineering___"
   ]
  },
  {
   "cell_type": "markdown",
   "id": "a475b094",
   "metadata": {},
   "source": [
    "Khi làm việc với các bài toán Machine Learning thực tế, nhìn chung chúng ta chỉ có được dữ liệu thô (raw) chưa qua chỉnh sửa, chọn lọc. Chúng ta cần phải tìm một phép biến đổi để loại ra những dữ liệu nhiễu (noise), và để đưa dữ liệu thô với số chiều khác nhau về cùng một chuẩn (cùng là các vector hoặc ma trận). Dữ liệu chuẩn mới này phải đảm bảo giữ được những thông tin đặc trưng (features) cho dữ liệu thô ban đầu. Không những thế, tùy vào từng bài toán, ta cần thiết kế những phép biến đổi để có những features phù hợp."
   ]
  },
  {
   "cell_type": "markdown",
   "id": "27d0d928",
   "metadata": {},
   "source": [
    "<h3>2. Normalize data<h3>"
   ]
  },
  {
   "cell_type": "markdown",
   "id": "a98de8fe",
   "metadata": {},
   "source": [
    "Các dữ liệu thô cần phải quy chuẩn về một mẫu nhất định phù hợp với model."
   ]
  },
  {
   "cell_type": "markdown",
   "id": "6c05c771",
   "metadata": {},
   "source": [
    "___3. Split data___"
   ]
  },
  {
   "cell_type": "markdown",
   "id": "a2925c82",
   "metadata": {},
   "source": [
    "Chia tập dữ liệu ra làm 3 loại:\n",
    "   * Train data: dùng để đào tạo model\n",
    "   * Validation data: dùng để đánh giá model\n",
    "   * Test data: dùng để kiểm tra model"
   ]
  },
  {
   "cell_type": "markdown",
   "id": "e7cf7081",
   "metadata": {},
   "source": [
    "<h3>Step 5: Build, Train, and Evaluate Your Model <h3>"
   ]
  },
  {
   "cell_type": "markdown",
   "id": "7228f216",
   "metadata": {},
   "source": [
    "   * Xây dựng số các lớp ẩn, số note ẩn trong mỗi lớp\n",
    "   * Khởi tạo trọng số w, b\n",
    "   * Lựa chọn các active function\n",
    "   * Lựa chọn hàm loss, thêm regularization\n",
    "   * Thêm các phương pháp tối ưu như drop out, weight decay, gradient descent, adam để train.\n",
    "   * Lựa chọn các tham số learning rate, learning rate decay,..."
   ]
  },
  {
   "cell_type": "code",
   "execution_count": null,
   "id": "8b71dae5",
   "metadata": {},
   "outputs": [],
   "source": []
  }
 ],
 "metadata": {
  "kernelspec": {
   "display_name": "Python 3 (ipykernel)",
   "language": "python",
   "name": "python3"
  },
  "language_info": {
   "codemirror_mode": {
    "name": "ipython",
    "version": 3
   },
   "file_extension": ".py",
   "mimetype": "text/x-python",
   "name": "python",
   "nbconvert_exporter": "python",
   "pygments_lexer": "ipython3",
   "version": "3.9.12"
  }
 },
 "nbformat": 4,
 "nbformat_minor": 5
}
