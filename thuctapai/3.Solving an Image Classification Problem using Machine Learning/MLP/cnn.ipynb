{
 "cells": [
  {
   "cell_type": "code",
   "execution_count": 94,
   "metadata": {},
   "outputs": [],
   "source": [
    "import tensorflow as tf\n",
    "from tensorflow.keras import datasets, layers, models\n",
    "import matplotlib.pyplot as plt\n",
    "import numpy as np\n",
    "import cv2"
   ]
  },
  {
   "cell_type": "code",
   "execution_count": 95,
   "metadata": {},
   "outputs": [
    {
     "data": {
      "text/plain": [
       "(60000, 28, 28)"
      ]
     },
     "execution_count": 95,
     "metadata": {},
     "output_type": "execute_result"
    }
   ],
   "source": [
    "(X_train, y_train), (X_test,y_test) = datasets.mnist.load_data()\n",
    "X_train.shape"
   ]
  },
  {
   "cell_type": "code",
   "execution_count": 96,
   "metadata": {},
   "outputs": [
    {
     "data": {
      "text/plain": [
       "array([5, 0, 4, 1, 9], dtype=uint8)"
      ]
     },
     "execution_count": 96,
     "metadata": {},
     "output_type": "execute_result"
    }
   ],
   "source": [
    "y_train = y_train.reshape(-1,)\n",
    "y_train[:5]"
   ]
  },
  {
   "cell_type": "code",
   "execution_count": 97,
   "metadata": {},
   "outputs": [],
   "source": [
    "def plot_sample(X, y, index):\n",
    "    plt.figure(figsize = (15,2))\n",
    "    plt.imshow(X[index])\n",
    "    plt.xlabel(classes[y[index]])"
   ]
  },
  {
   "cell_type": "code",
   "execution_count": 98,
   "metadata": {},
   "outputs": [
    {
     "data": {
      "image/png": "[encoded data removed]",
      "text/plain": [
       "<Figure size 1080x144 with 1 Axes>"
      ]
     },
     "metadata": {
      "needs_background": "light"
     },
     "output_type": "display_data"
    }
   ],
   "source": [
    "plot_sample(X_train, y_train, 0)"
   ]
  },
  {
   "cell_type": "code",
   "execution_count": 99,
   "metadata": {},
   "outputs": [],
   "source": [
    "X_train = X_train / 255.0\n",
    "X_test = X_test / 255.0"
   ]
  },
  {
   "cell_type": "code",
   "execution_count": 100,
   "metadata": {},
   "outputs": [],
   "source": [
    "classes = [\"0\",\"1\",\"2\",\"3\",\"4\",\"5\",\"6\",\"7\",\"8\",\"9\"]"
   ]
  },
  {
   "cell_type": "code",
   "execution_count": 101,
   "metadata": {},
   "outputs": [],
   "source": [
    "cnn = models.Sequential([\n",
    "    layers.Conv2D(filters=28, kernel_size=(3, 3), activation='relu', input_shape=(28, 28, 1)),\n",
    "    layers.MaxPooling2D((2, 2)),\n",
    "    \n",
    "    layers.Conv2D(filters=64, kernel_size=(3, 3), activation='relu'),\n",
    "    layers.MaxPooling2D((2, 2)),\n",
    "    \n",
    "    layers.Flatten(),\n",
    "    layers.Dense(64, activation='relu'),\n",
    "    layers.Dense(10, activation='softmax')\n",
    "])"
   ]
  },
  {
   "cell_type": "code",
   "execution_count": 102,
   "metadata": {},
   "outputs": [],
   "source": [
    "cnn.compile(optimizer='adam',\n",
    "              loss='sparse_categorical_crossentropy',\n",
    "              metrics=['accuracy'])"
   ]
  },
  {
   "cell_type": "code",
   "execution_count": 103,
   "metadata": {},
   "outputs": [
    {
     "name": "stdout",
     "output_type": "stream",
     "text": [
      "Epoch 1/2\n",
      "1875/1875 [==============================] - 65s 34ms/step - loss: 0.1443 - accuracy: 0.9568\n",
      "Epoch 2/2\n",
      "1875/1875 [==============================] - 61s 33ms/step - loss: 0.0493 - accuracy: 0.9846\n"
     ]
    },
    {
     "data": {
      "text/plain": [
       "<keras.callbacks.History at 0x120d720aa10>"
      ]
     },
     "execution_count": 103,
     "metadata": {},
     "output_type": "execute_result"
    }
   ],
   "source": [
    "cnn.fit(X_train, y_train, epochs=2)"
   ]
  },
  {
   "cell_type": "code",
   "execution_count": 116,
   "metadata": {},
   "outputs": [
    {
     "name": "stdout",
     "output_type": "stream",
     "text": [
      "313/313 [==============================] - 4s 11ms/step - loss: 0.0333 - accuracy: 0.9885\n"
     ]
    },
    {
     "data": {
      "text/plain": [
       "[0.03327379748225212, 0.9884999990463257]"
      ]
     },
     "execution_count": 116,
     "metadata": {},
     "output_type": "execute_result"
    }
   ],
   "source": [
    "cnn.evaluate(X_test,y_test)"
   ]
  },
  {
   "cell_type": "code",
   "execution_count": 104,
   "metadata": {},
   "outputs": [],
   "source": [
    "# from PIL import Image\n",
    "# col = Image.open(\"7.jpg\")\n",
    "# gray = col.convert('L')\n",
    "# bw = gray.point(lambda x: 0 if x<100 else 255, '1')\n",
    "# bw.save(\"bw_image.jpg\")\n",
    "# bw\n",
    "# img_array = cv2.imread(\"bw_image.jpg\", cv2.IMREAD_GRAYSCALE)\n",
    "# img_array = cv2.bitwise_not(img_array)\n",
    "# print(img_array.size)\n",
    "# plt.imshow(img_array, cmap = plt.cm.binary)\n",
    "# plt.show()\n",
    "# img_size = 28\n",
    "# new_array = cv2.resize(img_array, (img_size,img_size))\n",
    "# plt.imshow(new_array, cmap = plt.cm.binary)\n",
    "# plt.show()\n",
    "# user_test = tf.keras.utils.normalize(new_array, axis = 1)\n",
    "# user_test = np.array(user_test).reshape(-1,img_size,img_size,1)\n",
    "# print(user_test)\n",
    "# predicted = cnn.predict([user_test])\n",
    "# a = predicted[0][0]\n",
    "# for i in range(0,10):\n",
    "#   b = predicted[0][i]\n",
    "#   print(\"Probability Distribution for\",i,b)\n",
    "\n",
    "# print(\"The Predicted Value is\",np.argmax(predicted[0]))"
   ]
  },
  {
   "cell_type": "code",
   "execution_count": 115,
   "metadata": {},
   "outputs": [
    {
     "name": "stdout",
     "output_type": "stream",
     "text": [
      "(275, 338)\n",
      "(28, 28)\n",
      "(28, 28)\n"
     ]
    },
    {
     "data": {
      "image/png": "[encoded data removed]",
      "text/plain": [
       "<Figure size 432x288 with 1 Axes>"
      ]
     },
     "metadata": {
      "needs_background": "light"
     },
     "output_type": "display_data"
    },
    {
     "name": "stdout",
     "output_type": "stream",
     "text": [
      "1/1 [==============================] - 0s 74ms/step\n",
      "(1, 10)\n",
      "The Predicted Value is 7\n"
     ]
    }
   ],
   "source": [
    "import cv2\n",
    "img = cv2.imread(\"5.JPG\")\n",
    "img_array = cv2.cvtColor(img, cv2.COLOR_BGR2GRAY)\n",
    "print(img_array.shape)\n",
    "new_array = cv2.resize(img_array, (28,28),interpolation= cv2.INTER_AREA)\n",
    "print(new_array.shape)\n",
    "user_test = tf.keras.utils.normalize(new_array, axis = 1)\n",
    "print(user_test.shape)\n",
    "user_test = np.array(user_test).reshape(-1,28,28,1)\n",
    "plt.imshow(new_array, cmap = plt.cm.binary)\n",
    "plt.show()\n",
    "predicted = cnn.predict(user_test)\n",
    "print(predicted.shape)\n",
    "print(\"The Predicted Value is\",np.argmax(predicted))"
   ]
  }
 ],
 "metadata": {
  "kernelspec": {
   "display_name": "Python 3.10.5 64-bit",
   "language": "python",
   "name": "python3"
  },
  "language_info": {
   "codemirror_mode": {
    "name": "ipython",
    "version": 3
   },
   "file_extension": ".py",
   "mimetype": "text/x-python",
   "name": "python",
   "nbconvert_exporter": "python",
   "pygments_lexer": "ipython3",
   "version": "3.10.5"
  },
  "orig_nbformat": 4,
  "vscode": {
   "interpreter": {
    "hash": "a42ccb73e7d9bfdf27e036f1d2b8b681e55fc0743cc5586bc2474d4a60f4b886"
   }
  }
 },
 "nbformat": 4,
 "nbformat_minor": 2
}
